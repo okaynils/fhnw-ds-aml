{
 "cells": [
  {
   "cell_type": "raw",
   "metadata": {
    "vscode": {
     "languageId": "raw"
    }
   },
   "source": [
    "---\n",
    "toc: true\n",
    "toc-title: \"Table of Contents\"\n",
    "toc-depth: 3\n",
    "---"
   ]
  },
  {
   "cell_type": "markdown",
   "metadata": {},
   "source": [
    "# Cross-Selling of Credit Cards\n",
    "**Author**: Nils Fahrni"
   ]
  },
  {
   "cell_type": "code",
   "execution_count": 1,
   "metadata": {},
   "outputs": [],
   "source": [
    "import numpy as np\n",
    "import sys\n",
    "import pandas as pd\n",
    "import plotly.graph_objects as go\n",
    "import plotly.io as pio\n",
    "import seaborn as sns\n",
    "from plotly.subplots import make_subplots\n",
    "\n",
    "from matplotlib import pyplot as plt\n",
    "plt.style.use('ggplot')\n",
    "\n",
    "pio.templates.default = 'ggplot2'\n",
    "pd.set_option('display.max_columns', None)\n",
    "\n",
    "sys.path.append('scripts')\n",
    "from dataloader import DataLoader"
   ]
  },
  {
   "cell_type": "markdown",
   "metadata": {},
   "source": [
    "## Data Preprocessing"
   ]
  },
  {
   "cell_type": "markdown",
   "metadata": {},
   "source": [
    "### Data Loading"
   ]
  },
  {
   "cell_type": "code",
   "execution_count": 2,
   "metadata": {},
   "outputs": [
    {
     "data": {
      "text/html": [
       "<div>\n",
       "<style scoped>\n",
       "    .dataframe tbody tr th:only-of-type {\n",
       "        vertical-align: middle;\n",
       "    }\n",
       "\n",
       "    .dataframe tbody tr th {\n",
       "        vertical-align: top;\n",
       "    }\n",
       "\n",
       "    .dataframe thead th {\n",
       "        text-align: right;\n",
       "    }\n",
       "</style>\n",
       "<table border=\"1\" class=\"dataframe\">\n",
       "  <thead>\n",
       "    <tr style=\"text-align: right;\">\n",
       "      <th></th>\n",
       "      <th>Dataset</th>\n",
       "      <th>Number of Rows</th>\n",
       "    </tr>\n",
       "  </thead>\n",
       "  <tbody>\n",
       "    <tr>\n",
       "      <th>0</th>\n",
       "      <td>loan</td>\n",
       "      <td>682</td>\n",
       "    </tr>\n",
       "    <tr>\n",
       "      <th>1</th>\n",
       "      <td>client</td>\n",
       "      <td>5369</td>\n",
       "    </tr>\n",
       "    <tr>\n",
       "      <th>2</th>\n",
       "      <td>district</td>\n",
       "      <td>77</td>\n",
       "    </tr>\n",
       "    <tr>\n",
       "      <th>3</th>\n",
       "      <td>trans</td>\n",
       "      <td>1056320</td>\n",
       "    </tr>\n",
       "    <tr>\n",
       "      <th>4</th>\n",
       "      <td>account</td>\n",
       "      <td>4500</td>\n",
       "    </tr>\n",
       "    <tr>\n",
       "      <th>5</th>\n",
       "      <td>card</td>\n",
       "      <td>892</td>\n",
       "    </tr>\n",
       "    <tr>\n",
       "      <th>6</th>\n",
       "      <td>order</td>\n",
       "      <td>6471</td>\n",
       "    </tr>\n",
       "    <tr>\n",
       "      <th>7</th>\n",
       "      <td>disp</td>\n",
       "      <td>5369</td>\n",
       "    </tr>\n",
       "  </tbody>\n",
       "</table>\n",
       "</div>"
      ],
      "text/plain": [
       "    Dataset  Number of Rows\n",
       "0      loan             682\n",
       "1    client            5369\n",
       "2  district              77\n",
       "3     trans         1056320\n",
       "4   account            4500\n",
       "5      card             892\n",
       "6     order            6471\n",
       "7      disp            5369"
      ]
     },
     "execution_count": 2,
     "metadata": {},
     "output_type": "execute_result"
    }
   ],
   "source": [
    "data_loader = DataLoader(base_path='data', translations_name='translation_mappings.json')\n",
    "data_loader.list_datasets()"
   ]
  },
  {
   "cell_type": "markdown",
   "metadata": {},
   "source": [
    "#### Account"
   ]
  },
  {
   "cell_type": "code",
   "execution_count": 3,
   "metadata": {},
   "outputs": [
    {
     "name": "stdout",
     "output_type": "stream",
     "text": [
      "Mapped frequency:\n",
      "{\n",
      "    \"POPLATEK MESICNE\": \"MONTHLY CHARGES\",\n",
      "    \"POPLATEK TYDNE\": \"WEEKLY CHARGES\",\n",
      "    \"POPLATEK PO OBRATU\": \"TRANSACTION CHARGES\"\n",
      "}\n"
     ]
    },
    {
     "data": {
      "text/html": [
       "<div>\n",
       "<style scoped>\n",
       "    .dataframe tbody tr th:only-of-type {\n",
       "        vertical-align: middle;\n",
       "    }\n",
       "\n",
       "    .dataframe tbody tr th {\n",
       "        vertical-align: top;\n",
       "    }\n",
       "\n",
       "    .dataframe thead th {\n",
       "        text-align: right;\n",
       "    }\n",
       "</style>\n",
       "<table border=\"1\" class=\"dataframe\">\n",
       "  <thead>\n",
       "    <tr style=\"text-align: right;\">\n",
       "      <th></th>\n",
       "      <th>account_id</th>\n",
       "      <th>district_id</th>\n",
       "      <th>frequency</th>\n",
       "      <th>date</th>\n",
       "    </tr>\n",
       "  </thead>\n",
       "  <tbody>\n",
       "    <tr>\n",
       "      <th>3591</th>\n",
       "      <td>1056</td>\n",
       "      <td>1</td>\n",
       "      <td>WEEKLY CHARGES</td>\n",
       "      <td>1996-12-28</td>\n",
       "    </tr>\n",
       "    <tr>\n",
       "      <th>1289</th>\n",
       "      <td>2847</td>\n",
       "      <td>75</td>\n",
       "      <td>MONTHLY CHARGES</td>\n",
       "      <td>1994-05-08</td>\n",
       "    </tr>\n",
       "    <tr>\n",
       "      <th>2986</th>\n",
       "      <td>3518</td>\n",
       "      <td>9</td>\n",
       "      <td>MONTHLY CHARGES</td>\n",
       "      <td>1996-07-22</td>\n",
       "    </tr>\n",
       "    <tr>\n",
       "      <th>3734</th>\n",
       "      <td>2937</td>\n",
       "      <td>1</td>\n",
       "      <td>MONTHLY CHARGES</td>\n",
       "      <td>1997-02-25</td>\n",
       "    </tr>\n",
       "    <tr>\n",
       "      <th>833</th>\n",
       "      <td>3268</td>\n",
       "      <td>21</td>\n",
       "      <td>MONTHLY CHARGES</td>\n",
       "      <td>1993-09-20</td>\n",
       "    </tr>\n",
       "  </tbody>\n",
       "</table>\n",
       "</div>"
      ],
      "text/plain": [
       "      account_id  district_id        frequency       date\n",
       "3591        1056            1   WEEKLY CHARGES 1996-12-28\n",
       "1289        2847           75  MONTHLY CHARGES 1994-05-08\n",
       "2986        3518            9  MONTHLY CHARGES 1996-07-22\n",
       "3734        2937            1  MONTHLY CHARGES 1997-02-25\n",
       "833         3268           21  MONTHLY CHARGES 1993-09-20"
      ]
     },
     "execution_count": 3,
     "metadata": {},
     "output_type": "execute_result"
    }
   ],
   "source": [
    "account = data_loader.load_csv('account', parse_dates={'date': '%y%m%d'})\n",
    "account.sample(5)"
   ]
  },
  {
   "cell_type": "markdown",
   "metadata": {},
   "source": [
    "#### Client"
   ]
  },
  {
   "cell_type": "code",
   "execution_count": 4,
   "metadata": {},
   "outputs": [
    {
     "data": {
      "text/html": [
       "<div>\n",
       "<style scoped>\n",
       "    .dataframe tbody tr th:only-of-type {\n",
       "        vertical-align: middle;\n",
       "    }\n",
       "\n",
       "    .dataframe tbody tr th {\n",
       "        vertical-align: top;\n",
       "    }\n",
       "\n",
       "    .dataframe thead th {\n",
       "        text-align: right;\n",
       "    }\n",
       "</style>\n",
       "<table border=\"1\" class=\"dataframe\">\n",
       "  <thead>\n",
       "    <tr style=\"text-align: right;\">\n",
       "      <th></th>\n",
       "      <th>client_id</th>\n",
       "      <th>district_id</th>\n",
       "      <th>gender</th>\n",
       "      <th>birth_date</th>\n",
       "      <th>age</th>\n",
       "    </tr>\n",
       "  </thead>\n",
       "  <tbody>\n",
       "    <tr>\n",
       "      <th>974</th>\n",
       "      <td>1028</td>\n",
       "      <td>1</td>\n",
       "      <td>MALE</td>\n",
       "      <td>1934-10-02</td>\n",
       "      <td>65</td>\n",
       "    </tr>\n",
       "    <tr>\n",
       "      <th>4200</th>\n",
       "      <td>4442</td>\n",
       "      <td>23</td>\n",
       "      <td>FEMALE</td>\n",
       "      <td>1921-04-29</td>\n",
       "      <td>78</td>\n",
       "    </tr>\n",
       "    <tr>\n",
       "      <th>2782</th>\n",
       "      <td>2940</td>\n",
       "      <td>1</td>\n",
       "      <td>MALE</td>\n",
       "      <td>1965-10-16</td>\n",
       "      <td>34</td>\n",
       "    </tr>\n",
       "    <tr>\n",
       "      <th>2592</th>\n",
       "      <td>2740</td>\n",
       "      <td>36</td>\n",
       "      <td>FEMALE</td>\n",
       "      <td>1967-11-23</td>\n",
       "      <td>32</td>\n",
       "    </tr>\n",
       "    <tr>\n",
       "      <th>2899</th>\n",
       "      <td>3064</td>\n",
       "      <td>42</td>\n",
       "      <td>MALE</td>\n",
       "      <td>1930-05-05</td>\n",
       "      <td>69</td>\n",
       "    </tr>\n",
       "  </tbody>\n",
       "</table>\n",
       "</div>"
      ],
      "text/plain": [
       "      client_id  district_id  gender birth_date  age\n",
       "974        1028            1    MALE 1934-10-02   65\n",
       "4200       4442           23  FEMALE 1921-04-29   78\n",
       "2782       2940            1    MALE 1965-10-16   34\n",
       "2592       2740           36  FEMALE 1967-11-23   32\n",
       "2899       3064           42    MALE 1930-05-05   69"
      ]
     },
     "execution_count": 4,
     "metadata": {},
     "output_type": "execute_result"
    }
   ],
   "source": [
    "client = data_loader.load_csv('client')\n",
    "\n",
    "client = client.assign(gender=client['birth_number'].apply(lambda x: 'FEMALE' if int(str(x)[2:4]) > 50 else 'MALE'))\n",
    "\n",
    "client = client.assign(birth_number=client.apply(lambda x: x['birth_number'] - 5000 if x['gender'] == 'FEMALE' else x['birth_number'], axis=1))\n",
    "\n",
    "client['birth_number'] = pd.to_datetime(client['birth_number'], format='%y%m%d')\n",
    "client['birth_date'] = client['birth_number'].apply(lambda x: x - pd.DateOffset(years=100) if x.year > 1999 else x)\n",
    "client.drop('birth_number', axis=1, inplace=True)\n",
    "\n",
    "client['age'] = (pd.to_datetime('1999-12-31') - client['birth_date']).dt.days // 365\n",
    "\n",
    "client.sample(5)"
   ]
  },
  {
   "cell_type": "markdown",
   "metadata": {},
   "source": [
    "#### Disposition\n",
    "\n",
    "Removing disponents as the goal is to only advertise to owners. Disponents may be secondary users that have been authorized to use an account. They may be allowed to execute transactions on that account but they are not the authorized owners."
   ]
  },
  {
   "cell_type": "code",
   "execution_count": 5,
   "metadata": {},
   "outputs": [
    {
     "data": {
      "text/html": [
       "<div>\n",
       "<style scoped>\n",
       "    .dataframe tbody tr th:only-of-type {\n",
       "        vertical-align: middle;\n",
       "    }\n",
       "\n",
       "    .dataframe tbody tr th {\n",
       "        vertical-align: top;\n",
       "    }\n",
       "\n",
       "    .dataframe thead th {\n",
       "        text-align: right;\n",
       "    }\n",
       "</style>\n",
       "<table border=\"1\" class=\"dataframe\">\n",
       "  <thead>\n",
       "    <tr style=\"text-align: right;\">\n",
       "      <th></th>\n",
       "      <th>disp_id</th>\n",
       "      <th>client_id</th>\n",
       "      <th>account_id</th>\n",
       "    </tr>\n",
       "  </thead>\n",
       "  <tbody>\n",
       "    <tr>\n",
       "      <th>1985</th>\n",
       "      <td>2100</td>\n",
       "      <td>2100</td>\n",
       "      <td>1731</td>\n",
       "    </tr>\n",
       "    <tr>\n",
       "      <th>5273</th>\n",
       "      <td>12387</td>\n",
       "      <td>12695</td>\n",
       "      <td>10320</td>\n",
       "    </tr>\n",
       "    <tr>\n",
       "      <th>4313</th>\n",
       "      <td>4562</td>\n",
       "      <td>4562</td>\n",
       "      <td>3784</td>\n",
       "    </tr>\n",
       "    <tr>\n",
       "      <th>829</th>\n",
       "      <td>876</td>\n",
       "      <td>876</td>\n",
       "      <td>730</td>\n",
       "    </tr>\n",
       "    <tr>\n",
       "      <th>3080</th>\n",
       "      <td>3253</td>\n",
       "      <td>3253</td>\n",
       "      <td>2695</td>\n",
       "    </tr>\n",
       "  </tbody>\n",
       "</table>\n",
       "</div>"
      ],
      "text/plain": [
       "      disp_id  client_id  account_id\n",
       "1985     2100       2100        1731\n",
       "5273    12387      12695       10320\n",
       "4313     4562       4562        3784\n",
       "829       876        876         730\n",
       "3080     3253       3253        2695"
      ]
     },
     "execution_count": 5,
     "metadata": {},
     "output_type": "execute_result"
    }
   ],
   "source": [
    "disp = data_loader.load_csv('disp')\n",
    "\n",
    "disp = disp[disp['type'] != 'DISPONENT']\n",
    "\n",
    "disp.drop('type', axis=1, inplace=True)\n",
    "\n",
    "disp.sample(5)"
   ]
  },
  {
   "cell_type": "markdown",
   "metadata": {},
   "source": [
    "#### Permanent Order"
   ]
  },
  {
   "cell_type": "code",
   "execution_count": 6,
   "metadata": {},
   "outputs": [
    {
     "name": "stdout",
     "output_type": "stream",
     "text": [
      "Mapped k_symbol:\n",
      "{\n",
      "    \"POJISTNE\": \"INSURANCE PAYMENT\",\n",
      "    \"SIPO\": \"HOUSEHOLD\",\n",
      "    \"LEASING\": \"LEASING\",\n",
      "    \"UVER\": \"LOAN PAYMENT\"\n",
      "}\n"
     ]
    },
    {
     "data": {
      "text/html": [
       "<div>\n",
       "<style scoped>\n",
       "    .dataframe tbody tr th:only-of-type {\n",
       "        vertical-align: middle;\n",
       "    }\n",
       "\n",
       "    .dataframe tbody tr th {\n",
       "        vertical-align: top;\n",
       "    }\n",
       "\n",
       "    .dataframe thead th {\n",
       "        text-align: right;\n",
       "    }\n",
       "</style>\n",
       "<table border=\"1\" class=\"dataframe\">\n",
       "  <thead>\n",
       "    <tr style=\"text-align: right;\">\n",
       "      <th></th>\n",
       "      <th>order_id</th>\n",
       "      <th>account_id</th>\n",
       "      <th>bank_to</th>\n",
       "      <th>account_to</th>\n",
       "      <th>amount</th>\n",
       "      <th>k_symbol</th>\n",
       "    </tr>\n",
       "  </thead>\n",
       "  <tbody>\n",
       "    <tr>\n",
       "      <th>6026</th>\n",
       "      <td>41748</td>\n",
       "      <td>8321</td>\n",
       "      <td>WX</td>\n",
       "      <td>27547550</td>\n",
       "      <td>7041.0</td>\n",
       "      <td>HOUSEHOLD</td>\n",
       "    </tr>\n",
       "    <tr>\n",
       "      <th>5601</th>\n",
       "      <td>37178</td>\n",
       "      <td>5269</td>\n",
       "      <td>OP</td>\n",
       "      <td>84263461</td>\n",
       "      <td>7260.0</td>\n",
       "      <td>NaN</td>\n",
       "    </tr>\n",
       "    <tr>\n",
       "      <th>253</th>\n",
       "      <td>29682</td>\n",
       "      <td>186</td>\n",
       "      <td>GH</td>\n",
       "      <td>83964973</td>\n",
       "      <td>6862.0</td>\n",
       "      <td>HOUSEHOLD</td>\n",
       "    </tr>\n",
       "    <tr>\n",
       "      <th>4220</th>\n",
       "      <td>34068</td>\n",
       "      <td>3147</td>\n",
       "      <td>AB</td>\n",
       "      <td>80525493</td>\n",
       "      <td>37.0</td>\n",
       "      <td>NaN</td>\n",
       "    </tr>\n",
       "    <tr>\n",
       "      <th>395</th>\n",
       "      <td>29835</td>\n",
       "      <td>288</td>\n",
       "      <td>QR</td>\n",
       "      <td>97550320</td>\n",
       "      <td>207.0</td>\n",
       "      <td>HOUSEHOLD</td>\n",
       "    </tr>\n",
       "  </tbody>\n",
       "</table>\n",
       "</div>"
      ],
      "text/plain": [
       "      order_id  account_id bank_to  account_to  amount   k_symbol\n",
       "6026     41748        8321      WX    27547550  7041.0  HOUSEHOLD\n",
       "5601     37178        5269      OP    84263461  7260.0        NaN\n",
       "253      29682         186      GH    83964973  6862.0  HOUSEHOLD\n",
       "4220     34068        3147      AB    80525493    37.0        NaN\n",
       "395      29835         288      QR    97550320   207.0  HOUSEHOLD"
      ]
     },
     "execution_count": 6,
     "metadata": {},
     "output_type": "execute_result"
    }
   ],
   "source": [
    "order = data_loader.load_csv('order')\n",
    "\n",
    "order.sample(5)"
   ]
  },
  {
   "cell_type": "markdown",
   "metadata": {},
   "source": [
    "**Are there Null Values?**"
   ]
  },
  {
   "cell_type": "code",
   "execution_count": 7,
   "metadata": {},
   "outputs": [
    {
     "data": {
      "text/plain": [
       "order_id         0\n",
       "account_id       0\n",
       "bank_to          0\n",
       "account_to       0\n",
       "amount           0\n",
       "k_symbol      1379\n",
       "dtype: int64"
      ]
     },
     "metadata": {},
     "output_type": "display_data"
    },
    {
     "data": {
      "text/html": [
       "<div>\n",
       "<style scoped>\n",
       "    .dataframe tbody tr th:only-of-type {\n",
       "        vertical-align: middle;\n",
       "    }\n",
       "\n",
       "    .dataframe tbody tr th {\n",
       "        vertical-align: top;\n",
       "    }\n",
       "\n",
       "    .dataframe thead th {\n",
       "        text-align: right;\n",
       "    }\n",
       "</style>\n",
       "<table border=\"1\" class=\"dataframe\">\n",
       "  <thead>\n",
       "    <tr style=\"text-align: right;\">\n",
       "      <th></th>\n",
       "      <th>order_id</th>\n",
       "      <th>account_id</th>\n",
       "      <th>bank_to</th>\n",
       "      <th>account_to</th>\n",
       "      <th>amount</th>\n",
       "      <th>k_symbol</th>\n",
       "    </tr>\n",
       "  </thead>\n",
       "  <tbody>\n",
       "    <tr>\n",
       "      <th>1518</th>\n",
       "      <td>31066</td>\n",
       "      <td>1139</td>\n",
       "      <td>OP</td>\n",
       "      <td>71055465</td>\n",
       "      <td>479.0</td>\n",
       "      <td>NaN</td>\n",
       "    </tr>\n",
       "    <tr>\n",
       "      <th>4374</th>\n",
       "      <td>34237</td>\n",
       "      <td>3260</td>\n",
       "      <td>MN</td>\n",
       "      <td>83334749</td>\n",
       "      <td>40.0</td>\n",
       "      <td>NaN</td>\n",
       "    </tr>\n",
       "    <tr>\n",
       "      <th>3356</th>\n",
       "      <td>33112</td>\n",
       "      <td>2509</td>\n",
       "      <td>AB</td>\n",
       "      <td>73543202</td>\n",
       "      <td>4377.0</td>\n",
       "      <td>NaN</td>\n",
       "    </tr>\n",
       "    <tr>\n",
       "      <th>6377</th>\n",
       "      <td>45327</td>\n",
       "      <td>10711</td>\n",
       "      <td>EF</td>\n",
       "      <td>39264708</td>\n",
       "      <td>443.0</td>\n",
       "      <td>NaN</td>\n",
       "    </tr>\n",
       "    <tr>\n",
       "      <th>5661</th>\n",
       "      <td>37703</td>\n",
       "      <td>5591</td>\n",
       "      <td>YZ</td>\n",
       "      <td>30955463</td>\n",
       "      <td>2.0</td>\n",
       "      <td>NaN</td>\n",
       "    </tr>\n",
       "  </tbody>\n",
       "</table>\n",
       "</div>"
      ],
      "text/plain": [
       "      order_id  account_id bank_to  account_to  amount k_symbol\n",
       "1518     31066        1139      OP    71055465   479.0      NaN\n",
       "4374     34237        3260      MN    83334749    40.0      NaN\n",
       "3356     33112        2509      AB    73543202  4377.0      NaN\n",
       "6377     45327       10711      EF    39264708   443.0      NaN\n",
       "5661     37703        5591      YZ    30955463     2.0      NaN"
      ]
     },
     "metadata": {},
     "output_type": "display_data"
    }
   ],
   "source": [
    "display(order.isnull().sum())\n",
    "\n",
    "display(order[order['k_symbol'].isnull()].sample(5))"
   ]
  },
  {
   "cell_type": "code",
   "execution_count": 8,
   "metadata": {},
   "outputs": [
    {
     "data": {
      "text/html": [
       "<div>\n",
       "<style scoped>\n",
       "    .dataframe tbody tr th:only-of-type {\n",
       "        vertical-align: middle;\n",
       "    }\n",
       "\n",
       "    .dataframe tbody tr th {\n",
       "        vertical-align: top;\n",
       "    }\n",
       "\n",
       "    .dataframe thead th {\n",
       "        text-align: right;\n",
       "    }\n",
       "</style>\n",
       "<table border=\"1\" class=\"dataframe\">\n",
       "  <thead>\n",
       "    <tr style=\"text-align: right;\">\n",
       "      <th>k_symbol</th>\n",
       "      <th>HOUSEHOLD</th>\n",
       "      <th>INSURANCE PAYMENT</th>\n",
       "      <th>LEASING</th>\n",
       "      <th>LOAN PAYMENT</th>\n",
       "      <th>MISSING</th>\n",
       "    </tr>\n",
       "    <tr>\n",
       "      <th>account_id</th>\n",
       "      <th></th>\n",
       "      <th></th>\n",
       "      <th></th>\n",
       "      <th></th>\n",
       "      <th></th>\n",
       "    </tr>\n",
       "  </thead>\n",
       "  <tbody>\n",
       "    <tr>\n",
       "      <th>429</th>\n",
       "      <td>1</td>\n",
       "      <td>0</td>\n",
       "      <td>0</td>\n",
       "      <td>0</td>\n",
       "      <td>0</td>\n",
       "    </tr>\n",
       "    <tr>\n",
       "      <th>2834</th>\n",
       "      <td>1</td>\n",
       "      <td>1</td>\n",
       "      <td>0</td>\n",
       "      <td>0</td>\n",
       "      <td>2</td>\n",
       "    </tr>\n",
       "    <tr>\n",
       "      <th>3339</th>\n",
       "      <td>1</td>\n",
       "      <td>0</td>\n",
       "      <td>0</td>\n",
       "      <td>0</td>\n",
       "      <td>0</td>\n",
       "    </tr>\n",
       "    <tr>\n",
       "      <th>3143</th>\n",
       "      <td>1</td>\n",
       "      <td>0</td>\n",
       "      <td>0</td>\n",
       "      <td>1</td>\n",
       "      <td>0</td>\n",
       "    </tr>\n",
       "    <tr>\n",
       "      <th>1832</th>\n",
       "      <td>1</td>\n",
       "      <td>1</td>\n",
       "      <td>1</td>\n",
       "      <td>0</td>\n",
       "      <td>2</td>\n",
       "    </tr>\n",
       "  </tbody>\n",
       "</table>\n",
       "</div>"
      ],
      "text/plain": [
       "k_symbol    HOUSEHOLD  INSURANCE PAYMENT  LEASING  LOAN PAYMENT  MISSING\n",
       "account_id                                                              \n",
       "429                 1                  0        0             0        0\n",
       "2834                1                  1        0             0        2\n",
       "3339                1                  0        0             0        0\n",
       "3143                1                  0        0             1        0\n",
       "1832                1                  1        1             0        2"
      ]
     },
     "execution_count": 8,
     "metadata": {},
     "output_type": "execute_result"
    }
   ],
   "source": [
    "order['k_symbol'] = order['k_symbol'].fillna('MISSING')\n",
    "\n",
    "order_pivot = order.pivot_table(index='account_id', columns='k_symbol', values='amount', aggfunc='count', fill_value=0)\n",
    "\n",
    "order_pivot.sample(5)"
   ]
  },
  {
   "cell_type": "markdown",
   "metadata": {},
   "source": [
    "#### Transaction\n",
    "\n",
    "TODO: \n",
    "- amount to negative or positive based on if withdrawal or deposit\n",
    "- Research account number 19 (time series account balance, at least per month)\n",
    "    - this acc is volatile\n",
    "    - account's balance goes negative sometimes\n",
    "- what happens to accounts with multiple transactions on a day?\n",
    "    - how to obtain the actual end of day balance?\n",
    "        - add up withdrawals with deposits and add to balance of day before \n",
    "        - try to vectorize this problem (R antijoin mentioned)"
   ]
  },
  {
   "cell_type": "code",
   "execution_count": 9,
   "metadata": {},
   "outputs": [
    {
     "name": "stdout",
     "output_type": "stream",
     "text": [
      "Mapped type:\n",
      "{\n",
      "    \"PRIJEM\": \"CREDIT\",\n",
      "    \"VYDAJ\": \"WITHDRAWAL\"\n",
      "}\n",
      "Mapped operation:\n",
      "{\n",
      "    \"VYBER KARTOU\": \"CREDIT CARD WITHDRAWAL\",\n",
      "    \"VKLAD\": \"CREDIT IN CASH\",\n",
      "    \"PREVOD Z UCTU\": \"COLLECTION FROM ANOTHER BANK\",\n",
      "    \"VYBER\": \"WITHDRAWAL IN CASH\",\n",
      "    \"PREVOD NA UCET\": \"REMITTANCE TO ANOTHER BANK\"\n",
      "}\n",
      "Mapped k_symbol:\n",
      "{\n",
      "    \"POJISTNE\": \"INSURANCE PAYMENT\",\n",
      "    \"SLUZBY\": \"PAYMENT FOR STATEMENT\",\n",
      "    \"UROK\": \"INTEREST CREDITED\",\n",
      "    \"SANKC. UROK\": \"SANCTION INTEREST IF NEGATIVE BALANCE\",\n",
      "    \"SIPO\": \"HOUSEHOLD\",\n",
      "    \"DUCHOD\": \"OLD-AGE PENSION\",\n",
      "    \"UVER\": \"LOAN PAYMENT\"\n",
      "}\n"
     ]
    },
    {
     "data": {
      "text/html": [
       "<div>\n",
       "<style scoped>\n",
       "    .dataframe tbody tr th:only-of-type {\n",
       "        vertical-align: middle;\n",
       "    }\n",
       "\n",
       "    .dataframe tbody tr th {\n",
       "        vertical-align: top;\n",
       "    }\n",
       "\n",
       "    .dataframe thead th {\n",
       "        text-align: right;\n",
       "    }\n",
       "</style>\n",
       "<table border=\"1\" class=\"dataframe\">\n",
       "  <thead>\n",
       "    <tr style=\"text-align: right;\">\n",
       "      <th></th>\n",
       "      <th>trans_id</th>\n",
       "      <th>account_id</th>\n",
       "      <th>date</th>\n",
       "      <th>type</th>\n",
       "      <th>operation</th>\n",
       "      <th>amount</th>\n",
       "      <th>balance</th>\n",
       "      <th>k_symbol</th>\n",
       "      <th>bank</th>\n",
       "      <th>account</th>\n",
       "    </tr>\n",
       "  </thead>\n",
       "  <tbody>\n",
       "    <tr>\n",
       "      <th>558773</th>\n",
       "      <td>670996</td>\n",
       "      <td>2291</td>\n",
       "      <td>1997-05-31</td>\n",
       "      <td>WITHDRAWAL</td>\n",
       "      <td>WITHDRAWAL IN CASH</td>\n",
       "      <td>14.6</td>\n",
       "      <td>23777.9</td>\n",
       "      <td>PAYMENT FOR STATEMENT</td>\n",
       "      <td>NaN</td>\n",
       "      <td>NaN</td>\n",
       "    </tr>\n",
       "    <tr>\n",
       "      <th>194092</th>\n",
       "      <td>608949</td>\n",
       "      <td>2072</td>\n",
       "      <td>1995-07-31</td>\n",
       "      <td>WITHDRAWAL</td>\n",
       "      <td>WITHDRAWAL IN CASH</td>\n",
       "      <td>14.6</td>\n",
       "      <td>52928.8</td>\n",
       "      <td>PAYMENT FOR STATEMENT</td>\n",
       "      <td>NaN</td>\n",
       "      <td>NaN</td>\n",
       "    </tr>\n",
       "    <tr>\n",
       "      <th>147422</th>\n",
       "      <td>909748</td>\n",
       "      <td>3099</td>\n",
       "      <td>1995-03-12</td>\n",
       "      <td>WITHDRAWAL</td>\n",
       "      <td>REMITTANCE TO ANOTHER BANK</td>\n",
       "      <td>3205.0</td>\n",
       "      <td>21374.1</td>\n",
       "      <td>HOUSEHOLD</td>\n",
       "      <td>OP</td>\n",
       "      <td>30212110.0</td>\n",
       "    </tr>\n",
       "    <tr>\n",
       "      <th>425651</th>\n",
       "      <td>75027</td>\n",
       "      <td>248</td>\n",
       "      <td>1996-11-30</td>\n",
       "      <td>WITHDRAWAL</td>\n",
       "      <td>WITHDRAWAL IN CASH</td>\n",
       "      <td>14.6</td>\n",
       "      <td>34107.8</td>\n",
       "      <td>PAYMENT FOR STATEMENT</td>\n",
       "      <td>NaN</td>\n",
       "      <td>NaN</td>\n",
       "    </tr>\n",
       "    <tr>\n",
       "      <th>348385</th>\n",
       "      <td>248387</td>\n",
       "      <td>854</td>\n",
       "      <td>1996-07-10</td>\n",
       "      <td>WITHDRAWAL</td>\n",
       "      <td>REMITTANCE TO ANOTHER BANK</td>\n",
       "      <td>382.0</td>\n",
       "      <td>30232.9</td>\n",
       "      <td>HOUSEHOLD</td>\n",
       "      <td>AB</td>\n",
       "      <td>21777671.0</td>\n",
       "    </tr>\n",
       "  </tbody>\n",
       "</table>\n",
       "</div>"
      ],
      "text/plain": [
       "        trans_id  account_id       date        type  \\\n",
       "558773    670996        2291 1997-05-31  WITHDRAWAL   \n",
       "194092    608949        2072 1995-07-31  WITHDRAWAL   \n",
       "147422    909748        3099 1995-03-12  WITHDRAWAL   \n",
       "425651     75027         248 1996-11-30  WITHDRAWAL   \n",
       "348385    248387         854 1996-07-10  WITHDRAWAL   \n",
       "\n",
       "                         operation  amount  balance               k_symbol  \\\n",
       "558773          WITHDRAWAL IN CASH    14.6  23777.9  PAYMENT FOR STATEMENT   \n",
       "194092          WITHDRAWAL IN CASH    14.6  52928.8  PAYMENT FOR STATEMENT   \n",
       "147422  REMITTANCE TO ANOTHER BANK  3205.0  21374.1              HOUSEHOLD   \n",
       "425651          WITHDRAWAL IN CASH    14.6  34107.8  PAYMENT FOR STATEMENT   \n",
       "348385  REMITTANCE TO ANOTHER BANK   382.0  30232.9              HOUSEHOLD   \n",
       "\n",
       "       bank     account  \n",
       "558773  NaN         NaN  \n",
       "194092  NaN         NaN  \n",
       "147422   OP  30212110.0  \n",
       "425651  NaN         NaN  \n",
       "348385   AB  21777671.0  "
      ]
     },
     "execution_count": 9,
     "metadata": {},
     "output_type": "execute_result"
    }
   ],
   "source": [
    "transaction = data_loader.load_csv('trans', parse_dates={'date': '%y%m%d'})\n",
    "\n",
    "transaction.sample(5)"
   ]
  },
  {
   "cell_type": "markdown",
   "metadata": {},
   "source": [
    "#### Loan"
   ]
  },
  {
   "cell_type": "code",
   "execution_count": 10,
   "metadata": {},
   "outputs": [
    {
     "name": "stdout",
     "output_type": "stream",
     "text": [
      "Mapped status:\n",
      "{\n",
      "    \"A\": \"contract finished, no problems\",\n",
      "    \"B\": \"contract finished, loan not payed\",\n",
      "    \"C\": \"running contract, OK so far\",\n",
      "    \"D\": \"running contract, client in debt\"\n",
      "}\n"
     ]
    },
    {
     "data": {
      "text/html": [
       "<div>\n",
       "<style scoped>\n",
       "    .dataframe tbody tr th:only-of-type {\n",
       "        vertical-align: middle;\n",
       "    }\n",
       "\n",
       "    .dataframe tbody tr th {\n",
       "        vertical-align: top;\n",
       "    }\n",
       "\n",
       "    .dataframe thead th {\n",
       "        text-align: right;\n",
       "    }\n",
       "</style>\n",
       "<table border=\"1\" class=\"dataframe\">\n",
       "  <thead>\n",
       "    <tr style=\"text-align: right;\">\n",
       "      <th></th>\n",
       "      <th>loan_id</th>\n",
       "      <th>account_id</th>\n",
       "      <th>date</th>\n",
       "      <th>amount</th>\n",
       "      <th>duration</th>\n",
       "      <th>payments</th>\n",
       "      <th>status</th>\n",
       "    </tr>\n",
       "  </thead>\n",
       "  <tbody>\n",
       "    <tr>\n",
       "      <th>471</th>\n",
       "      <td>6239</td>\n",
       "      <td>6083</td>\n",
       "      <td>1997-09-28</td>\n",
       "      <td>360864</td>\n",
       "      <td>48</td>\n",
       "      <td>7518.0</td>\n",
       "      <td>running contract, client in debt</td>\n",
       "    </tr>\n",
       "    <tr>\n",
       "      <th>600</th>\n",
       "      <td>6234</td>\n",
       "      <td>6061</td>\n",
       "      <td>1998-05-28</td>\n",
       "      <td>5148</td>\n",
       "      <td>12</td>\n",
       "      <td>429.0</td>\n",
       "      <td>running contract, OK so far</td>\n",
       "    </tr>\n",
       "    <tr>\n",
       "      <th>356</th>\n",
       "      <td>5682</td>\n",
       "      <td>3455</td>\n",
       "      <td>1997-03-07</td>\n",
       "      <td>67464</td>\n",
       "      <td>12</td>\n",
       "      <td>5622.0</td>\n",
       "      <td>contract finished, no problems</td>\n",
       "    </tr>\n",
       "    <tr>\n",
       "      <th>455</th>\n",
       "      <td>5718</td>\n",
       "      <td>3637</td>\n",
       "      <td>1997-09-01</td>\n",
       "      <td>14028</td>\n",
       "      <td>12</td>\n",
       "      <td>1169.0</td>\n",
       "      <td>contract finished, no problems</td>\n",
       "    </tr>\n",
       "    <tr>\n",
       "      <th>15</th>\n",
       "      <td>6456</td>\n",
       "      <td>7123</td>\n",
       "      <td>1993-12-09</td>\n",
       "      <td>47016</td>\n",
       "      <td>12</td>\n",
       "      <td>3918.0</td>\n",
       "      <td>contract finished, no problems</td>\n",
       "    </tr>\n",
       "  </tbody>\n",
       "</table>\n",
       "</div>"
      ],
      "text/plain": [
       "     loan_id  account_id       date  amount  duration  payments  \\\n",
       "471     6239        6083 1997-09-28  360864        48    7518.0   \n",
       "600     6234        6061 1998-05-28    5148        12     429.0   \n",
       "356     5682        3455 1997-03-07   67464        12    5622.0   \n",
       "455     5718        3637 1997-09-01   14028        12    1169.0   \n",
       "15      6456        7123 1993-12-09   47016        12    3918.0   \n",
       "\n",
       "                               status  \n",
       "471  running contract, client in debt  \n",
       "600       running contract, OK so far  \n",
       "356    contract finished, no problems  \n",
       "455    contract finished, no problems  \n",
       "15     contract finished, no problems  "
      ]
     },
     "execution_count": 10,
     "metadata": {},
     "output_type": "execute_result"
    }
   ],
   "source": [
    "loan = data_loader.load_csv('loan', parse_dates={'date': '%y%m%d'})\n",
    "\n",
    "loan.sample(5)"
   ]
  },
  {
   "cell_type": "markdown",
   "metadata": {},
   "source": [
    "**Can an account have multiple loans?**"
   ]
  },
  {
   "cell_type": "code",
   "execution_count": 11,
   "metadata": {},
   "outputs": [
    {
     "name": "stdout",
     "output_type": "stream",
     "text": [
      "Are there accounts with multiple loans: False\n"
     ]
    }
   ],
   "source": [
    "print(f'Are there accounts with multiple loans: {loan[\"account_id\"].nunique() < loan.shape[0]}')"
   ]
  },
  {
   "cell_type": "markdown",
   "metadata": {},
   "source": [
    "#### Credit Card"
   ]
  },
  {
   "cell_type": "code",
   "execution_count": 12,
   "metadata": {},
   "outputs": [
    {
     "data": {
      "text/html": [
       "<div>\n",
       "<style scoped>\n",
       "    .dataframe tbody tr th:only-of-type {\n",
       "        vertical-align: middle;\n",
       "    }\n",
       "\n",
       "    .dataframe tbody tr th {\n",
       "        vertical-align: top;\n",
       "    }\n",
       "\n",
       "    .dataframe thead th {\n",
       "        text-align: right;\n",
       "    }\n",
       "</style>\n",
       "<table border=\"1\" class=\"dataframe\">\n",
       "  <thead>\n",
       "    <tr style=\"text-align: right;\">\n",
       "      <th></th>\n",
       "      <th>card_id</th>\n",
       "      <th>disp_id</th>\n",
       "      <th>type</th>\n",
       "      <th>issued</th>\n",
       "    </tr>\n",
       "  </thead>\n",
       "  <tbody>\n",
       "    <tr>\n",
       "      <th>887</th>\n",
       "      <td>125</td>\n",
       "      <td>694</td>\n",
       "      <td>gold</td>\n",
       "      <td>1998-12-26</td>\n",
       "    </tr>\n",
       "    <tr>\n",
       "      <th>101</th>\n",
       "      <td>725</td>\n",
       "      <td>4715</td>\n",
       "      <td>junior</td>\n",
       "      <td>1996-03-30</td>\n",
       "    </tr>\n",
       "    <tr>\n",
       "      <th>263</th>\n",
       "      <td>607</td>\n",
       "      <td>3885</td>\n",
       "      <td>classic</td>\n",
       "      <td>1997-05-17</td>\n",
       "    </tr>\n",
       "    <tr>\n",
       "      <th>52</th>\n",
       "      <td>397</td>\n",
       "      <td>2513</td>\n",
       "      <td>classic</td>\n",
       "      <td>1995-06-24</td>\n",
       "    </tr>\n",
       "    <tr>\n",
       "      <th>635</th>\n",
       "      <td>39</td>\n",
       "      <td>254</td>\n",
       "      <td>classic</td>\n",
       "      <td>1998-07-14</td>\n",
       "    </tr>\n",
       "  </tbody>\n",
       "</table>\n",
       "</div>"
      ],
      "text/plain": [
       "     card_id  disp_id     type     issued\n",
       "887      125      694     gold 1998-12-26\n",
       "101      725     4715   junior 1996-03-30\n",
       "263      607     3885  classic 1997-05-17\n",
       "52       397     2513  classic 1995-06-24\n",
       "635       39      254  classic 1998-07-14"
      ]
     },
     "execution_count": 12,
     "metadata": {},
     "output_type": "execute_result"
    }
   ],
   "source": [
    "card = data_loader.load_csv('card', parse_dates={'issued': '%y%m%d'})\n",
    "\n",
    "card.sample(5)"
   ]
  },
  {
   "cell_type": "markdown",
   "metadata": {},
   "source": [
    "#### District"
   ]
  },
  {
   "cell_type": "code",
   "execution_count": 13,
   "metadata": {},
   "outputs": [
    {
     "data": {
      "text/html": [
       "<div>\n",
       "<style scoped>\n",
       "    .dataframe tbody tr th:only-of-type {\n",
       "        vertical-align: middle;\n",
       "    }\n",
       "\n",
       "    .dataframe tbody tr th {\n",
       "        vertical-align: top;\n",
       "    }\n",
       "\n",
       "    .dataframe thead th {\n",
       "        text-align: right;\n",
       "    }\n",
       "</style>\n",
       "<table border=\"1\" class=\"dataframe\">\n",
       "  <thead>\n",
       "    <tr style=\"text-align: right;\">\n",
       "      <th></th>\n",
       "      <th>district_id</th>\n",
       "      <th>district_name</th>\n",
       "      <th>region</th>\n",
       "      <th>population</th>\n",
       "      <th>n_municipalities_with_inhabitants_lt_499</th>\n",
       "      <th>n_municipalities_with_inhabitants_500_to_1999</th>\n",
       "      <th>n_municipalities_with_inhabitants_2000_to_9999</th>\n",
       "      <th>n_municipalities_with_inhabitants_gt_10000</th>\n",
       "      <th>n_cities</th>\n",
       "      <th>ratio_urban_inhabitants</th>\n",
       "      <th>average_salary</th>\n",
       "      <th>unemployment_rate_95</th>\n",
       "      <th>unemployment_rate_96</th>\n",
       "      <th>enterpreneurs_per_1000_inhabitants</th>\n",
       "      <th>n_commited_crimes_95</th>\n",
       "      <th>n_commited_crimes_96</th>\n",
       "    </tr>\n",
       "  </thead>\n",
       "  <tbody>\n",
       "    <tr>\n",
       "      <th>34</th>\n",
       "      <td>35</td>\n",
       "      <td>Jablonec n. Nisou</td>\n",
       "      <td>north Bohemia</td>\n",
       "      <td>88768</td>\n",
       "      <td>10</td>\n",
       "      <td>18</td>\n",
       "      <td>5</td>\n",
       "      <td>1</td>\n",
       "      <td>7</td>\n",
       "      <td>80.5</td>\n",
       "      <td>8867</td>\n",
       "      <td>1.02</td>\n",
       "      <td>1.21</td>\n",
       "      <td>130</td>\n",
       "      <td>3384</td>\n",
       "      <td>3620</td>\n",
       "    </tr>\n",
       "    <tr>\n",
       "      <th>11</th>\n",
       "      <td>12</td>\n",
       "      <td>Pribram</td>\n",
       "      <td>central Bohemia</td>\n",
       "      <td>107870</td>\n",
       "      <td>84</td>\n",
       "      <td>29</td>\n",
       "      <td>6</td>\n",
       "      <td>1</td>\n",
       "      <td>6</td>\n",
       "      <td>58.0</td>\n",
       "      <td>8754</td>\n",
       "      <td>3.83</td>\n",
       "      <td>4.31</td>\n",
       "      <td>137</td>\n",
       "      <td>3804</td>\n",
       "      <td>3868</td>\n",
       "    </tr>\n",
       "    <tr>\n",
       "      <th>43</th>\n",
       "      <td>44</td>\n",
       "      <td>Chrudim</td>\n",
       "      <td>east Bohemia</td>\n",
       "      <td>105606</td>\n",
       "      <td>77</td>\n",
       "      <td>26</td>\n",
       "      <td>7</td>\n",
       "      <td>2</td>\n",
       "      <td>7</td>\n",
       "      <td>53.0</td>\n",
       "      <td>8254</td>\n",
       "      <td>2.79</td>\n",
       "      <td>3.76</td>\n",
       "      <td>97</td>\n",
       "      <td>2166</td>\n",
       "      <td>2325</td>\n",
       "    </tr>\n",
       "    <tr>\n",
       "      <th>65</th>\n",
       "      <td>66</td>\n",
       "      <td>Zdar nad Sazavou</td>\n",
       "      <td>south Moravia</td>\n",
       "      <td>125832</td>\n",
       "      <td>151</td>\n",
       "      <td>41</td>\n",
       "      <td>2</td>\n",
       "      <td>3</td>\n",
       "      <td>5</td>\n",
       "      <td>48.3</td>\n",
       "      <td>8512</td>\n",
       "      <td>3.51</td>\n",
       "      <td>4.12</td>\n",
       "      <td>102</td>\n",
       "      <td>2247</td>\n",
       "      <td>2103</td>\n",
       "    </tr>\n",
       "    <tr>\n",
       "      <th>64</th>\n",
       "      <td>65</td>\n",
       "      <td>Znojmo</td>\n",
       "      <td>south Moravia</td>\n",
       "      <td>114200</td>\n",
       "      <td>101</td>\n",
       "      <td>41</td>\n",
       "      <td>4</td>\n",
       "      <td>1</td>\n",
       "      <td>4</td>\n",
       "      <td>43.7</td>\n",
       "      <td>8403</td>\n",
       "      <td>5.74</td>\n",
       "      <td>5.72</td>\n",
       "      <td>105</td>\n",
       "      <td>2157</td>\n",
       "      <td>2718</td>\n",
       "    </tr>\n",
       "  </tbody>\n",
       "</table>\n",
       "</div>"
      ],
      "text/plain": [
       "    district_id      district_name           region  population  \\\n",
       "34           35  Jablonec n. Nisou    north Bohemia       88768   \n",
       "11           12            Pribram  central Bohemia      107870   \n",
       "43           44            Chrudim     east Bohemia      105606   \n",
       "65           66   Zdar nad Sazavou    south Moravia      125832   \n",
       "64           65             Znojmo    south Moravia      114200   \n",
       "\n",
       "    n_municipalities_with_inhabitants_lt_499  \\\n",
       "34                                        10   \n",
       "11                                        84   \n",
       "43                                        77   \n",
       "65                                       151   \n",
       "64                                       101   \n",
       "\n",
       "    n_municipalities_with_inhabitants_500_to_1999  \\\n",
       "34                                             18   \n",
       "11                                             29   \n",
       "43                                             26   \n",
       "65                                             41   \n",
       "64                                             41   \n",
       "\n",
       "    n_municipalities_with_inhabitants_2000_to_9999  \\\n",
       "34                                               5   \n",
       "11                                               6   \n",
       "43                                               7   \n",
       "65                                               2   \n",
       "64                                               4   \n",
       "\n",
       "    n_municipalities_with_inhabitants_gt_10000  n_cities  \\\n",
       "34                                           1         7   \n",
       "11                                           1         6   \n",
       "43                                           2         7   \n",
       "65                                           3         5   \n",
       "64                                           1         4   \n",
       "\n",
       "    ratio_urban_inhabitants  average_salary unemployment_rate_95  \\\n",
       "34                     80.5            8867                 1.02   \n",
       "11                     58.0            8754                 3.83   \n",
       "43                     53.0            8254                 2.79   \n",
       "65                     48.3            8512                 3.51   \n",
       "64                     43.7            8403                 5.74   \n",
       "\n",
       "    unemployment_rate_96  enterpreneurs_per_1000_inhabitants  \\\n",
       "34                  1.21                                 130   \n",
       "11                  4.31                                 137   \n",
       "43                  3.76                                  97   \n",
       "65                  4.12                                 102   \n",
       "64                  5.72                                 105   \n",
       "\n",
       "   n_commited_crimes_95  n_commited_crimes_96  \n",
       "34                 3384                  3620  \n",
       "11                 3804                  3868  \n",
       "43                 2166                  2325  \n",
       "65                 2247                  2103  \n",
       "64                 2157                  2718  "
      ]
     },
     "execution_count": 13,
     "metadata": {},
     "output_type": "execute_result"
    }
   ],
   "source": [
    "district = data_loader.load_csv('district')\n",
    "\n",
    "district = district.rename(columns={\n",
    "    'A1': 'district_id',\n",
    "    'A2': 'district_name',\n",
    "    'A3': 'region',\n",
    "    'A4': 'population',\n",
    "    'A5': 'n_municipalities_with_inhabitants_lt_499',\n",
    "    'A6': 'n_municipalities_with_inhabitants_500_to_1999',\n",
    "    'A7': 'n_municipalities_with_inhabitants_2000_to_9999',\n",
    "    'A8': 'n_municipalities_with_inhabitants_gt_10000',\n",
    "    'A9': 'n_cities',\n",
    "    'A10': 'ratio_urban_inhabitants',\n",
    "    'A11': 'average_salary',\n",
    "    'A12': 'unemployment_rate_95',\n",
    "    'A13': 'unemployment_rate_96',\n",
    "    'A14': 'enterpreneurs_per_1000_inhabitants',\n",
    "    'A15': 'n_commited_crimes_95',\n",
    "    'A16': 'n_commited_crimes_96'\n",
    "})\n",
    "\n",
    "district.sample(5)"
   ]
  },
  {
   "cell_type": "markdown",
   "metadata": {},
   "source": [
    "### Data Merging"
   ]
  },
  {
   "cell_type": "code",
   "execution_count": 14,
   "metadata": {},
   "outputs": [],
   "source": [
    "from utils import add_prefix_except_id\n",
    "\n",
    "account = add_prefix_except_id(account, 'account_', id_exceptions=['district_id'])\n",
    "client_df = disp.merge(account, on='account_id', how='left')\n",
    "\n",
    "client = add_prefix_except_id(client, 'client_', id_exceptions=['district_id'])\n",
    "client_df = client_df.merge(client, on='client_id', how='left')\n",
    "\n",
    "order_pivot = add_prefix_except_id(order_pivot, 'ordertype_')\n",
    "client_df = client_df.merge(order_pivot, on='account_id', how='left')\n",
    "\n",
    "loan = add_prefix_except_id(loan, 'loan_')\n",
    "client_df = client_df.merge(loan, on='account_id', how='left')\n",
    "\n",
    "card = add_prefix_except_id(card, 'card_')\n",
    "client_df = client_df.merge(card, on='disp_id', how='left')\n",
    "\n",
    "client_district = add_prefix_except_id(district, 'client_district_')\n",
    "client_df = client_df.merge(client_district, left_on='client_district_id', right_on='district_id', how='left')\n",
    "\n",
    "account_district = add_prefix_except_id(district, 'account_district_')\n",
    "client_df = client_df.merge(account_district, left_on='account_district_id', right_on='district_id', how='left')\n",
    "\n",
    "client_df.sample(5)\n",
    "\n",
    "n_merged_base_client = client_df.shape[0]"
   ]
  },
  {
   "cell_type": "code",
   "execution_count": 15,
   "metadata": {},
   "outputs": [],
   "source": [
    "assert client_df['account_id'].nunique() == client_df.shape[0]"
   ]
  },
  {
   "cell_type": "markdown",
   "metadata": {},
   "source": [
    "### Data Cleaning"
   ]
  },
  {
   "cell_type": "markdown",
   "metadata": {},
   "source": [
    "#### Removing Junior Cards"
   ]
  },
  {
   "cell_type": "code",
   "execution_count": 16,
   "metadata": {},
   "outputs": [
    {
     "name": "stdout",
     "output_type": "stream",
     "text": [
      "Number of junior clients: 145\n",
      "Number of clients remaining: 4355\n"
     ]
    }
   ],
   "source": [
    "junior_clients = client_df[client_df['card_type'] == 'junior']\n",
    "\n",
    "client_df = client_df[~client_df['account_id'].isin(junior_clients['account_id'])]\n",
    "\n",
    "transaction = transaction[~transaction['account_id'].isin(junior_clients['account_id'])]\n",
    "\n",
    "client_df['has_card'] = client_df['card_id'].notnull()\n",
    "\n",
    "print(f'Number of junior clients: {junior_clients.shape[0]}')\n",
    "print(f'Number of clients remaining: {client_df.shape[0]}')"
   ]
  },
  {
   "cell_type": "markdown",
   "metadata": {},
   "source": [
    "## Model Construction"
   ]
  },
  {
   "cell_type": "markdown",
   "metadata": {},
   "source": [
    "### Processing Transactional Data\n",
    "- The goal is to predict if a non-card-owner will buy a card or not"
   ]
  },
  {
   "cell_type": "markdown",
   "metadata": {},
   "source": [
    "The first task is to look if every account in the transactions dataframe has a \"first transaction\". This would make the calculation of the monthly balance much easier since everything can be summed up without having to worry that there were months without records in the transaction dataframe."
   ]
  },
  {
   "cell_type": "code",
   "execution_count": 17,
   "metadata": {},
   "outputs": [
    {
     "name": "stdout",
     "output_type": "stream",
     "text": [
      "Does every account's first day of transactions include at least one transaction where amount equals balance? True\n"
     ]
    }
   ],
   "source": [
    "# Find the minimum (first) transaction(s) date for each account\n",
    "min_dates = transaction.groupby('account_id')['date'].min().reset_index()\n",
    "min_dates.rename(columns={'date': 'min_date'}, inplace=True)\n",
    "\n",
    "# Merge the minimum date back to the transactions to identify all transactions on the first day\n",
    "transactions_with_min_date = pd.merge(transaction, min_dates, on='account_id')\n",
    "\n",
    "# Filter transactions that are on the first day\n",
    "first_day_transactions = transactions_with_min_date[transactions_with_min_date['date'] == transactions_with_min_date['min_date']]\n",
    "first_day_transactions = first_day_transactions.copy()\n",
    "\n",
    "# Now, for each of these first day transactions, check if any have amount equals balance\n",
    "first_day_transactions['amount_equals_balance'] = first_day_transactions['amount'] == first_day_transactions['balance']\n",
    "\n",
    "# Group by account_id and check if any transactions for each account meet the condition\n",
    "accounts_meeting_condition = first_day_transactions.groupby('account_id')['amount_equals_balance'].any().reset_index()\n",
    "\n",
    "# Verify if all accounts have at least one transaction on the first day meeting the condition\n",
    "all_accounts_covered = accounts_meeting_condition['amount_equals_balance'].all()\n",
    "\n",
    "print(\"Does every account's first day of transactions include at least one transaction where amount equals balance?\", all_accounts_covered)"
   ]
  },
  {
   "cell_type": "markdown",
   "metadata": {},
   "source": [
    "Now every accounts balance needs to be calculated per month."
   ]
  },
  {
   "cell_type": "code",
   "execution_count": 18,
   "metadata": {},
   "outputs": [],
   "source": [
    "transaction['month'] = transaction['date'].dt.to_period('M')\n",
    "\n",
    "transactions_monthly = transaction.groupby(['account_id', 'month']).agg(\n",
    "    volume=('amount', 'sum'),\n",
    "    credit=('amount', lambda x: x[x > 0].sum()),\n",
    "    withdrawal=('amount', lambda x: x[x < 0].sum()),\n",
    "    n_transactions=('amount', 'size')\n",
    ").reset_index()"
   ]
  },
  {
   "cell_type": "code",
   "execution_count": 19,
   "metadata": {},
   "outputs": [
    {
     "name": "stderr",
     "output_type": "stream",
     "text": [
      "/var/folders/th/yt_529gn5qj62429rgx8mqzc0000gn/T/ipykernel_54426/3639110262.py:15: DeprecationWarning: DataFrameGroupBy.apply operated on the grouping columns. This behavior is deprecated, and in a future version of pandas the grouping columns will be excluded from the operation. Either pass `include_groups=False` to exclude the groupings or explicitly select the grouping columns after groupby to silence this warning.\n",
      "  .apply(lambda x: reindex_df(x, x.name))\n"
     ]
    }
   ],
   "source": [
    "transactions_monthly['month'] = pd.PeriodIndex(transactions_monthly['month'])\n",
    "\n",
    "date_ranges = transactions_monthly.groupby('account_id')['month'].agg(['min', 'max'])\n",
    "\n",
    "def reindex_df(group, account_id):\n",
    "    idx = pd.period_range(start=group['month'].min(), end=group['month'].max(), freq='M')\n",
    "    group.set_index('month', inplace=True)\n",
    "    group = group.reindex(idx, fill_value=0)\n",
    "    group.reset_index(inplace=True)\n",
    "    group.rename(columns={'index': 'month'}, inplace=True)\n",
    "    group['account_id'] = account_id\n",
    "    return group\n",
    "\n",
    "transactions_monthly = (transactions_monthly.groupby('account_id')\n",
    "                        .apply(lambda x: reindex_df(x, x.name))\n",
    "                        .reset_index(level=0, drop=True))\n",
    "\n",
    "# Calculate cumulative balance\n",
    "transactions_monthly['balance'] = transactions_monthly.groupby('account_id')['volume'].cumsum()"
   ]
  },
  {
   "cell_type": "code",
   "execution_count": 20,
   "metadata": {},
   "outputs": [
    {
     "data": {
      "text/html": [
       "<div>\n",
       "<style scoped>\n",
       "    .dataframe tbody tr th:only-of-type {\n",
       "        vertical-align: middle;\n",
       "    }\n",
       "\n",
       "    .dataframe tbody tr th {\n",
       "        vertical-align: top;\n",
       "    }\n",
       "\n",
       "    .dataframe thead th {\n",
       "        text-align: right;\n",
       "    }\n",
       "</style>\n",
       "<table border=\"1\" class=\"dataframe\">\n",
       "  <thead>\n",
       "    <tr style=\"text-align: right;\">\n",
       "      <th></th>\n",
       "      <th>month</th>\n",
       "      <th>account_id</th>\n",
       "      <th>volume</th>\n",
       "      <th>credit</th>\n",
       "      <th>withdrawal</th>\n",
       "      <th>n_transactions</th>\n",
       "      <th>balance</th>\n",
       "    </tr>\n",
       "  </thead>\n",
       "  <tbody>\n",
       "    <tr>\n",
       "      <th>0</th>\n",
       "      <td>1995-03</td>\n",
       "      <td>1</td>\n",
       "      <td>1000.0</td>\n",
       "      <td>1000.0</td>\n",
       "      <td>0.0</td>\n",
       "      <td>1</td>\n",
       "      <td>1000.0</td>\n",
       "    </tr>\n",
       "    <tr>\n",
       "      <th>1</th>\n",
       "      <td>1995-04</td>\n",
       "      <td>1</td>\n",
       "      <td>16298.2</td>\n",
       "      <td>16298.2</td>\n",
       "      <td>0.0</td>\n",
       "      <td>3</td>\n",
       "      <td>17298.2</td>\n",
       "    </tr>\n",
       "    <tr>\n",
       "      <th>2</th>\n",
       "      <td>1995-05</td>\n",
       "      <td>1</td>\n",
       "      <td>5858.0</td>\n",
       "      <td>5858.0</td>\n",
       "      <td>0.0</td>\n",
       "      <td>3</td>\n",
       "      <td>23156.2</td>\n",
       "    </tr>\n",
       "    <tr>\n",
       "      <th>3</th>\n",
       "      <td>1995-06</td>\n",
       "      <td>1</td>\n",
       "      <td>3979.6</td>\n",
       "      <td>3979.6</td>\n",
       "      <td>0.0</td>\n",
       "      <td>3</td>\n",
       "      <td>27135.8</td>\n",
       "    </tr>\n",
       "    <tr>\n",
       "      <th>4</th>\n",
       "      <td>1995-07</td>\n",
       "      <td>1</td>\n",
       "      <td>9087.9</td>\n",
       "      <td>9087.9</td>\n",
       "      <td>0.0</td>\n",
       "      <td>3</td>\n",
       "      <td>36223.7</td>\n",
       "    </tr>\n",
       "    <tr>\n",
       "      <th>...</th>\n",
       "      <td>...</td>\n",
       "      <td>...</td>\n",
       "      <td>...</td>\n",
       "      <td>...</td>\n",
       "      <td>...</td>\n",
       "      <td>...</td>\n",
       "      <td>...</td>\n",
       "    </tr>\n",
       "    <tr>\n",
       "      <th>36</th>\n",
       "      <td>1998-08</td>\n",
       "      <td>11382</td>\n",
       "      <td>54569.5</td>\n",
       "      <td>54569.5</td>\n",
       "      <td>0.0</td>\n",
       "      <td>7</td>\n",
       "      <td>2386853.6</td>\n",
       "    </tr>\n",
       "    <tr>\n",
       "      <th>37</th>\n",
       "      <td>1998-09</td>\n",
       "      <td>11382</td>\n",
       "      <td>44120.0</td>\n",
       "      <td>44120.0</td>\n",
       "      <td>0.0</td>\n",
       "      <td>5</td>\n",
       "      <td>2430973.6</td>\n",
       "    </tr>\n",
       "    <tr>\n",
       "      <th>38</th>\n",
       "      <td>1998-10</td>\n",
       "      <td>11382</td>\n",
       "      <td>63262.2</td>\n",
       "      <td>63262.2</td>\n",
       "      <td>0.0</td>\n",
       "      <td>6</td>\n",
       "      <td>2494235.8</td>\n",
       "    </tr>\n",
       "    <tr>\n",
       "      <th>39</th>\n",
       "      <td>1998-11</td>\n",
       "      <td>11382</td>\n",
       "      <td>50165.7</td>\n",
       "      <td>50165.7</td>\n",
       "      <td>0.0</td>\n",
       "      <td>5</td>\n",
       "      <td>2544401.5</td>\n",
       "    </tr>\n",
       "    <tr>\n",
       "      <th>40</th>\n",
       "      <td>1998-12</td>\n",
       "      <td>11382</td>\n",
       "      <td>78760.4</td>\n",
       "      <td>78760.4</td>\n",
       "      <td>0.0</td>\n",
       "      <td>5</td>\n",
       "      <td>2623161.9</td>\n",
       "    </tr>\n",
       "  </tbody>\n",
       "</table>\n",
       "<p>179054 rows × 7 columns</p>\n",
       "</div>"
      ],
      "text/plain": [
       "      month  account_id   volume   credit  withdrawal  n_transactions  \\\n",
       "0   1995-03           1   1000.0   1000.0         0.0               1   \n",
       "1   1995-04           1  16298.2  16298.2         0.0               3   \n",
       "2   1995-05           1   5858.0   5858.0         0.0               3   \n",
       "3   1995-06           1   3979.6   3979.6         0.0               3   \n",
       "4   1995-07           1   9087.9   9087.9         0.0               3   \n",
       "..      ...         ...      ...      ...         ...             ...   \n",
       "36  1998-08       11382  54569.5  54569.5         0.0               7   \n",
       "37  1998-09       11382  44120.0  44120.0         0.0               5   \n",
       "38  1998-10       11382  63262.2  63262.2         0.0               6   \n",
       "39  1998-11       11382  50165.7  50165.7         0.0               5   \n",
       "40  1998-12       11382  78760.4  78760.4         0.0               5   \n",
       "\n",
       "      balance  \n",
       "0      1000.0  \n",
       "1     17298.2  \n",
       "2     23156.2  \n",
       "3     27135.8  \n",
       "4     36223.7  \n",
       "..        ...  \n",
       "36  2386853.6  \n",
       "37  2430973.6  \n",
       "38  2494235.8  \n",
       "39  2544401.5  \n",
       "40  2623161.9  \n",
       "\n",
       "[179054 rows x 7 columns]"
      ]
     },
     "execution_count": 20,
     "metadata": {},
     "output_type": "execute_result"
    }
   ],
   "source": [
    "transactions_monthly"
   ]
  },
  {
   "cell_type": "markdown",
   "metadata": {},
   "source": [
    "### Defining Roll-Up Windows of Transactions"
   ]
  },
  {
   "cell_type": "markdown",
   "metadata": {},
   "source": [
    "Before we can continue to filter out customers that have at least 13 Months of transaction history it is also needed to give non-customers a fictional `card_issued` date so we can build negative samples that also contain a 13-Month rollup window."
   ]
  },
  {
   "cell_type": "code",
   "execution_count": 21,
   "metadata": {},
   "outputs": [
    {
     "data": {
      "image/png": "[encoded data removed]",
      "text/plain": [
       "<Figure size 1000x600 with 1 Axes>"
      ]
     },
     "metadata": {},
     "output_type": "display_data"
    }
   ],
   "source": [
    "clients_with_cards = client_df[~client_df['card_issued'].isnull()]\n",
    "time_between_creation_and_issue = (clients_with_cards['card_issued'] - clients_with_cards['account_date']).dt.days\n",
    "\n",
    "plt.figure(figsize=(10, 6))\n",
    "sns.histplot(time_between_creation_and_issue, bins=50, stat='percent', kde=False, color='blue', linewidth=1)\n",
    "\n",
    "plt.title('Distribution of Card Issuance Dates')\n",
    "plt.xlabel('Days')\n",
    "plt.ylabel('Percentage of Accounts')\n",
    "plt.grid(True)\n",
    "\n",
    "plt.show()"
   ]
  },
  {
   "cell_type": "markdown",
   "metadata": {},
   "source": [
    "An observation we can make when looking at the distribution of when cards usually get issued after the account creation is that there don't seem to be any issuances before day 200 of the account."
   ]
  },
  {
   "cell_type": "code",
   "execution_count": 22,
   "metadata": {},
   "outputs": [
    {
     "data": {
      "image/png": "[encoded data removed]",
      "text/plain": [
       "<Figure size 1000x600 with 1 Axes>"
      ]
     },
     "metadata": {},
     "output_type": "display_data"
    }
   ],
   "source": [
    "np.random.seed(1337)\n",
    "\n",
    "sampled_deltas = np.random.choice(time_between_creation_and_issue, size=len(client_df[client_df['card_issued'].isnull()]))\n",
    "\n",
    "plt.figure(figsize=(10, 6))\n",
    "sns.histplot(sampled_deltas, bins=50, stat='percent', kde=False, color='blue', linewidth=1, label='Sampled Deltas')\n",
    "sns.histplot(time_between_creation_and_issue, bins=50, stat='percent', kde=False, color='orange', linewidth=1, label='Original Deltas')\n",
    "\n",
    "plt.title('Distribution of Card Issuance Dates')\n",
    "plt.xlabel('Days')\n",
    "plt.ylabel('Percentage of Accounts')\n",
    "plt.legend()\n",
    "plt.grid(True)\n",
    "\n",
    "plt.show()"
   ]
  },
  {
   "cell_type": "code",
   "execution_count": 23,
   "metadata": {},
   "outputs": [
    {
     "name": "stdout",
     "output_type": "stream",
     "text": [
      "Number of NaT/NaN values in card_issued: 0\n"
     ]
    }
   ],
   "source": [
    "if len(client_df[client_df['card_issued'].isnull()]) > 0:\n",
    "    client_df.loc[client_df['card_issued'].isnull(), 'card_issued'] = client_df.loc[client_df['card_issued'].isnull(), 'account_date'] + pd.to_timedelta(sampled_deltas, unit='D')\n",
    "    \n",
    "print(f'Number of NaT/NaN values in card_issued: {client_df[\"card_issued\"].isnull().sum()}')"
   ]
  },
  {
   "cell_type": "code",
   "execution_count": 24,
   "metadata": {},
   "outputs": [
    {
     "data": {
      "text/html": [
       "<div>\n",
       "<style scoped>\n",
       "    .dataframe tbody tr th:only-of-type {\n",
       "        vertical-align: middle;\n",
       "    }\n",
       "\n",
       "    .dataframe tbody tr th {\n",
       "        vertical-align: top;\n",
       "    }\n",
       "\n",
       "    .dataframe thead th {\n",
       "        text-align: right;\n",
       "    }\n",
       "</style>\n",
       "<table border=\"1\" class=\"dataframe\">\n",
       "  <thead>\n",
       "    <tr style=\"text-align: right;\">\n",
       "      <th></th>\n",
       "      <th>disp_id</th>\n",
       "      <th>card_issued</th>\n",
       "    </tr>\n",
       "  </thead>\n",
       "  <tbody>\n",
       "    <tr>\n",
       "      <th>0</th>\n",
       "      <td>9</td>\n",
       "      <td>1998-10-16</td>\n",
       "    </tr>\n",
       "    <tr>\n",
       "      <th>1</th>\n",
       "      <td>19</td>\n",
       "      <td>1998-03-13</td>\n",
       "    </tr>\n",
       "    <tr>\n",
       "      <th>2</th>\n",
       "      <td>41</td>\n",
       "      <td>1995-09-03</td>\n",
       "    </tr>\n",
       "    <tr>\n",
       "      <th>3</th>\n",
       "      <td>42</td>\n",
       "      <td>1998-11-26</td>\n",
       "    </tr>\n",
       "    <tr>\n",
       "      <th>4</th>\n",
       "      <td>51</td>\n",
       "      <td>1995-04-24</td>\n",
       "    </tr>\n",
       "  </tbody>\n",
       "</table>\n",
       "</div>"
      ],
      "text/plain": [
       "   disp_id card_issued\n",
       "0        9  1998-10-16\n",
       "1       19  1998-03-13\n",
       "2       41  1995-09-03\n",
       "3       42  1998-11-26\n",
       "4       51  1995-04-24"
      ]
     },
     "execution_count": 24,
     "metadata": {},
     "output_type": "execute_result"
    }
   ],
   "source": [
    "card_issued = card.groupby('disp_id')['card_issued'].min().reset_index()\n",
    "card_issued.head(5)"
   ]
  },
  {
   "cell_type": "code",
   "execution_count": 25,
   "metadata": {},
   "outputs": [
    {
     "name": "stdout",
     "output_type": "stream",
     "text": [
      "<class 'pandas.core.frame.DataFrame'>\n",
      "Index: 179054 entries, 0 to 40\n",
      "Data columns (total 7 columns):\n",
      " #   Column          Non-Null Count   Dtype    \n",
      "---  ------          --------------   -----    \n",
      " 0   month           179054 non-null  period[M]\n",
      " 1   account_id      179054 non-null  int64    \n",
      " 2   volume          179054 non-null  float64  \n",
      " 3   credit          179054 non-null  float64  \n",
      " 4   withdrawal      179054 non-null  float64  \n",
      " 5   n_transactions  179054 non-null  int64    \n",
      " 6   balance         179054 non-null  float64  \n",
      "dtypes: float64(4), int64(2), period[M](1)\n",
      "memory usage: 10.9 MB\n"
     ]
    }
   ],
   "source": [
    "client_df[client_df['disp_id'].isnull()].shape[0]\n",
    "\n",
    "transactions_monthly.info()"
   ]
  },
  {
   "cell_type": "code",
   "execution_count": 26,
   "metadata": {},
   "outputs": [
    {
     "data": {
      "text/html": [
       "<div>\n",
       "<style scoped>\n",
       "    .dataframe tbody tr th:only-of-type {\n",
       "        vertical-align: middle;\n",
       "    }\n",
       "\n",
       "    .dataframe tbody tr th {\n",
       "        vertical-align: top;\n",
       "    }\n",
       "\n",
       "    .dataframe thead th {\n",
       "        text-align: right;\n",
       "    }\n",
       "</style>\n",
       "<table border=\"1\" class=\"dataframe\">\n",
       "  <thead>\n",
       "    <tr style=\"text-align: right;\">\n",
       "      <th></th>\n",
       "      <th>month</th>\n",
       "      <th>account_id</th>\n",
       "      <th>volume</th>\n",
       "      <th>credit</th>\n",
       "      <th>withdrawal</th>\n",
       "      <th>n_transactions</th>\n",
       "      <th>balance</th>\n",
       "      <th>card_issued</th>\n",
       "    </tr>\n",
       "  </thead>\n",
       "  <tbody>\n",
       "    <tr>\n",
       "      <th>0</th>\n",
       "      <td>1995-03</td>\n",
       "      <td>1</td>\n",
       "      <td>1000.0</td>\n",
       "      <td>1000.0</td>\n",
       "      <td>0.0</td>\n",
       "      <td>1</td>\n",
       "      <td>1000.0</td>\n",
       "      <td>1998-09-18</td>\n",
       "    </tr>\n",
       "    <tr>\n",
       "      <th>1</th>\n",
       "      <td>1995-04</td>\n",
       "      <td>1</td>\n",
       "      <td>16298.2</td>\n",
       "      <td>16298.2</td>\n",
       "      <td>0.0</td>\n",
       "      <td>3</td>\n",
       "      <td>17298.2</td>\n",
       "      <td>1998-09-18</td>\n",
       "    </tr>\n",
       "    <tr>\n",
       "      <th>2</th>\n",
       "      <td>1995-05</td>\n",
       "      <td>1</td>\n",
       "      <td>5858.0</td>\n",
       "      <td>5858.0</td>\n",
       "      <td>0.0</td>\n",
       "      <td>3</td>\n",
       "      <td>23156.2</td>\n",
       "      <td>1998-09-18</td>\n",
       "    </tr>\n",
       "    <tr>\n",
       "      <th>3</th>\n",
       "      <td>1995-06</td>\n",
       "      <td>1</td>\n",
       "      <td>3979.6</td>\n",
       "      <td>3979.6</td>\n",
       "      <td>0.0</td>\n",
       "      <td>3</td>\n",
       "      <td>27135.8</td>\n",
       "      <td>1998-09-18</td>\n",
       "    </tr>\n",
       "    <tr>\n",
       "      <th>4</th>\n",
       "      <td>1995-07</td>\n",
       "      <td>1</td>\n",
       "      <td>9087.9</td>\n",
       "      <td>9087.9</td>\n",
       "      <td>0.0</td>\n",
       "      <td>3</td>\n",
       "      <td>36223.7</td>\n",
       "      <td>1998-09-18</td>\n",
       "    </tr>\n",
       "  </tbody>\n",
       "</table>\n",
       "</div>"
      ],
      "text/plain": [
       "     month  account_id   volume   credit  withdrawal  n_transactions  balance  \\\n",
       "0  1995-03           1   1000.0   1000.0         0.0               1   1000.0   \n",
       "1  1995-04           1  16298.2  16298.2         0.0               3  17298.2   \n",
       "2  1995-05           1   5858.0   5858.0         0.0               3  23156.2   \n",
       "3  1995-06           1   3979.6   3979.6         0.0               3  27135.8   \n",
       "4  1995-07           1   9087.9   9087.9         0.0               3  36223.7   \n",
       "\n",
       "  card_issued  \n",
       "0  1998-09-18  \n",
       "1  1998-09-18  \n",
       "2  1998-09-18  \n",
       "3  1998-09-18  \n",
       "4  1998-09-18  "
      ]
     },
     "execution_count": 26,
     "metadata": {},
     "output_type": "execute_result"
    }
   ],
   "source": [
    "transactions_monthly = transactions_monthly.merge(client_df[['account_id', 'card_issued']], left_on='account_id', right_on='account_id', how='left')\n",
    "\n",
    "transactions_monthly.head()"
   ]
  },
  {
   "cell_type": "markdown",
   "metadata": {},
   "source": [
    "Now, let's see if the join worked correctly and we don't have any transactions without a `card_issued` date anymore."
   ]
  },
  {
   "cell_type": "code",
   "execution_count": 27,
   "metadata": {},
   "outputs": [],
   "source": [
    "assert transactions_monthly['card_issued'].isnull().sum() == 0"
   ]
  },
  {
   "cell_type": "markdown",
   "metadata": {},
   "source": [
    "### Validating Negative Examples\n",
    "The goal for our model will be to be able to learn from a base set of customers (with and without cards) that lived through the same economic circumstances. To validate that all customers in our current set are represented in a well distributed way, this next plot looks at the distribution of volume throughout the datasets timeframe."
   ]
  },
  {
   "cell_type": "code",
   "execution_count": 28,
   "metadata": {},
   "outputs": [],
   "source": [
    "transactions_monthly['has_card'] = transactions_monthly['account_id'].isin(client_df[client_df['has_card']]['account_id'])"
   ]
  },
  {
   "cell_type": "code",
   "execution_count": 29,
   "metadata": {},
   "outputs": [],
   "source": [
    "transactions_monthly.reset_index(inplace=True)\n",
    "transactions_monthly['id'] = range(len(transactions_monthly))\n",
    "transactions_monthly.set_index('id', inplace=True)"
   ]
  },
  {
   "cell_type": "code",
   "execution_count": 30,
   "metadata": {},
   "outputs": [
    {
     "data": {
      "image/png": "[encoded data removed]",
      "text/plain": [
       "<Figure size 1200x600 with 1 Axes>"
      ]
     },
     "metadata": {},
     "output_type": "display_data"
    }
   ],
   "source": [
    "transactions_with_cards = transactions_monthly[transactions_monthly['has_card'] == True]\n",
    "transactions_without_cards = transactions_monthly[transactions_monthly['has_card'] == False]\n",
    "\n",
    "grouped_with_cards = transactions_with_cards.groupby('month')['volume'].sum().reset_index()\n",
    "grouped_without_cards = transactions_without_cards.groupby('month')['volume'].sum().reset_index()\n",
    "\n",
    "grouped_with_cards['month'] = grouped_with_cards['month'].astype(str)\n",
    "grouped_without_cards['month'] = grouped_without_cards['month'].astype(str)\n",
    "\n",
    "grouped_with_cards['avg_volume_per_client'] = grouped_with_cards['volume'] / transactions_with_cards.shape[0]\n",
    "grouped_without_cards['avg_volume_per_client'] = grouped_without_cards['volume'] / transactions_without_cards.shape[0]\n",
    "\n",
    "plt.figure(figsize=(12, 6))\n",
    "\n",
    "sns.lineplot(x='month', y='avg_volume_per_client', data=grouped_with_cards, marker='o', label='Clients with Cards')\n",
    "sns.lineplot(x='month', y='avg_volume_per_client', data=grouped_without_cards, marker='o', label='Clients without Cards')\n",
    "\n",
    "plt.title('Transaction Volume per Month')\n",
    "plt.xlabel('Month')\n",
    "plt.ylabel('Average Transaction Volume per Client ($)')\n",
    "plt.legend()\n",
    "plt.grid(True)\n",
    "\n",
    "plt.xticks(ticks=grouped_with_cards['month'][grouped_with_cards['month'].str.endswith('-01')], rotation=45)\n",
    "plt.gca().set_xticklabels([label[:4] for label in grouped_with_cards['month'][grouped_with_cards['month'].str.endswith('-01')]])\n",
    "\n",
    "plt.show()\n"
   ]
  },
  {
   "cell_type": "code",
   "execution_count": 31,
   "metadata": {},
   "outputs": [],
   "source": [
    "transactions_monthly['card_issued'] = pd.to_datetime(transactions_monthly['card_issued'])\n",
    "transactions_monthly['card_issued_period'] = transactions_monthly['card_issued'].dt.to_period('M')\n",
    "\n",
    "transactions_monthly['month_diff'] = transactions_monthly.apply(lambda row: (row['card_issued_period'] - row['month']).n if pd.notnull(row['card_issued_period']) and pd.notnull(row['month']) else None, axis=1)\n",
    "\n",
    "filtered_transactions = transactions_monthly[transactions_monthly['month_diff'].between(1, 13)]"
   ]
  },
  {
   "cell_type": "code",
   "execution_count": 32,
   "metadata": {},
   "outputs": [
    {
     "data": {
      "text/html": [
       "<div>\n",
       "<style scoped>\n",
       "    .dataframe tbody tr th:only-of-type {\n",
       "        vertical-align: middle;\n",
       "    }\n",
       "\n",
       "    .dataframe tbody tr th {\n",
       "        vertical-align: top;\n",
       "    }\n",
       "\n",
       "    .dataframe thead th {\n",
       "        text-align: right;\n",
       "    }\n",
       "</style>\n",
       "<table border=\"1\" class=\"dataframe\">\n",
       "  <thead>\n",
       "    <tr style=\"text-align: right;\">\n",
       "      <th></th>\n",
       "      <th>index</th>\n",
       "      <th>month</th>\n",
       "      <th>account_id</th>\n",
       "      <th>volume</th>\n",
       "      <th>credit</th>\n",
       "      <th>withdrawal</th>\n",
       "      <th>n_transactions</th>\n",
       "      <th>balance</th>\n",
       "      <th>card_issued</th>\n",
       "      <th>has_card</th>\n",
       "      <th>card_issued_period</th>\n",
       "      <th>month_diff</th>\n",
       "    </tr>\n",
       "    <tr>\n",
       "      <th>id</th>\n",
       "      <th></th>\n",
       "      <th></th>\n",
       "      <th></th>\n",
       "      <th></th>\n",
       "      <th></th>\n",
       "      <th></th>\n",
       "      <th></th>\n",
       "      <th></th>\n",
       "      <th></th>\n",
       "      <th></th>\n",
       "      <th></th>\n",
       "      <th></th>\n",
       "    </tr>\n",
       "  </thead>\n",
       "  <tbody>\n",
       "    <tr>\n",
       "      <th>0</th>\n",
       "      <td>0</td>\n",
       "      <td>1995-03</td>\n",
       "      <td>1</td>\n",
       "      <td>1000.0</td>\n",
       "      <td>1000.0</td>\n",
       "      <td>0.0</td>\n",
       "      <td>1</td>\n",
       "      <td>1000.0</td>\n",
       "      <td>1998-09-18</td>\n",
       "      <td>False</td>\n",
       "      <td>1998-09</td>\n",
       "      <td>42</td>\n",
       "    </tr>\n",
       "    <tr>\n",
       "      <th>1</th>\n",
       "      <td>1</td>\n",
       "      <td>1995-04</td>\n",
       "      <td>1</td>\n",
       "      <td>16298.2</td>\n",
       "      <td>16298.2</td>\n",
       "      <td>0.0</td>\n",
       "      <td>3</td>\n",
       "      <td>17298.2</td>\n",
       "      <td>1998-09-18</td>\n",
       "      <td>False</td>\n",
       "      <td>1998-09</td>\n",
       "      <td>41</td>\n",
       "    </tr>\n",
       "    <tr>\n",
       "      <th>2</th>\n",
       "      <td>2</td>\n",
       "      <td>1995-05</td>\n",
       "      <td>1</td>\n",
       "      <td>5858.0</td>\n",
       "      <td>5858.0</td>\n",
       "      <td>0.0</td>\n",
       "      <td>3</td>\n",
       "      <td>23156.2</td>\n",
       "      <td>1998-09-18</td>\n",
       "      <td>False</td>\n",
       "      <td>1998-09</td>\n",
       "      <td>40</td>\n",
       "    </tr>\n",
       "    <tr>\n",
       "      <th>3</th>\n",
       "      <td>3</td>\n",
       "      <td>1995-06</td>\n",
       "      <td>1</td>\n",
       "      <td>3979.6</td>\n",
       "      <td>3979.6</td>\n",
       "      <td>0.0</td>\n",
       "      <td>3</td>\n",
       "      <td>27135.8</td>\n",
       "      <td>1998-09-18</td>\n",
       "      <td>False</td>\n",
       "      <td>1998-09</td>\n",
       "      <td>39</td>\n",
       "    </tr>\n",
       "    <tr>\n",
       "      <th>4</th>\n",
       "      <td>4</td>\n",
       "      <td>1995-07</td>\n",
       "      <td>1</td>\n",
       "      <td>9087.9</td>\n",
       "      <td>9087.9</td>\n",
       "      <td>0.0</td>\n",
       "      <td>3</td>\n",
       "      <td>36223.7</td>\n",
       "      <td>1998-09-18</td>\n",
       "      <td>False</td>\n",
       "      <td>1998-09</td>\n",
       "      <td>38</td>\n",
       "    </tr>\n",
       "    <tr>\n",
       "      <th>...</th>\n",
       "      <td>...</td>\n",
       "      <td>...</td>\n",
       "      <td>...</td>\n",
       "      <td>...</td>\n",
       "      <td>...</td>\n",
       "      <td>...</td>\n",
       "      <td>...</td>\n",
       "      <td>...</td>\n",
       "      <td>...</td>\n",
       "      <td>...</td>\n",
       "      <td>...</td>\n",
       "      <td>...</td>\n",
       "    </tr>\n",
       "    <tr>\n",
       "      <th>179049</th>\n",
       "      <td>179049</td>\n",
       "      <td>1998-08</td>\n",
       "      <td>11382</td>\n",
       "      <td>54569.5</td>\n",
       "      <td>54569.5</td>\n",
       "      <td>0.0</td>\n",
       "      <td>7</td>\n",
       "      <td>2386853.6</td>\n",
       "      <td>1996-09-30</td>\n",
       "      <td>False</td>\n",
       "      <td>1996-09</td>\n",
       "      <td>-23</td>\n",
       "    </tr>\n",
       "    <tr>\n",
       "      <th>179050</th>\n",
       "      <td>179050</td>\n",
       "      <td>1998-09</td>\n",
       "      <td>11382</td>\n",
       "      <td>44120.0</td>\n",
       "      <td>44120.0</td>\n",
       "      <td>0.0</td>\n",
       "      <td>5</td>\n",
       "      <td>2430973.6</td>\n",
       "      <td>1996-09-30</td>\n",
       "      <td>False</td>\n",
       "      <td>1996-09</td>\n",
       "      <td>-24</td>\n",
       "    </tr>\n",
       "    <tr>\n",
       "      <th>179051</th>\n",
       "      <td>179051</td>\n",
       "      <td>1998-10</td>\n",
       "      <td>11382</td>\n",
       "      <td>63262.2</td>\n",
       "      <td>63262.2</td>\n",
       "      <td>0.0</td>\n",
       "      <td>6</td>\n",
       "      <td>2494235.8</td>\n",
       "      <td>1996-09-30</td>\n",
       "      <td>False</td>\n",
       "      <td>1996-09</td>\n",
       "      <td>-25</td>\n",
       "    </tr>\n",
       "    <tr>\n",
       "      <th>179052</th>\n",
       "      <td>179052</td>\n",
       "      <td>1998-11</td>\n",
       "      <td>11382</td>\n",
       "      <td>50165.7</td>\n",
       "      <td>50165.7</td>\n",
       "      <td>0.0</td>\n",
       "      <td>5</td>\n",
       "      <td>2544401.5</td>\n",
       "      <td>1996-09-30</td>\n",
       "      <td>False</td>\n",
       "      <td>1996-09</td>\n",
       "      <td>-26</td>\n",
       "    </tr>\n",
       "    <tr>\n",
       "      <th>179053</th>\n",
       "      <td>179053</td>\n",
       "      <td>1998-12</td>\n",
       "      <td>11382</td>\n",
       "      <td>78760.4</td>\n",
       "      <td>78760.4</td>\n",
       "      <td>0.0</td>\n",
       "      <td>5</td>\n",
       "      <td>2623161.9</td>\n",
       "      <td>1996-09-30</td>\n",
       "      <td>False</td>\n",
       "      <td>1996-09</td>\n",
       "      <td>-27</td>\n",
       "    </tr>\n",
       "  </tbody>\n",
       "</table>\n",
       "<p>179054 rows × 12 columns</p>\n",
       "</div>"
      ],
      "text/plain": [
       "         index    month  account_id   volume   credit  withdrawal  \\\n",
       "id                                                                  \n",
       "0            0  1995-03           1   1000.0   1000.0         0.0   \n",
       "1            1  1995-04           1  16298.2  16298.2         0.0   \n",
       "2            2  1995-05           1   5858.0   5858.0         0.0   \n",
       "3            3  1995-06           1   3979.6   3979.6         0.0   \n",
       "4            4  1995-07           1   9087.9   9087.9         0.0   \n",
       "...        ...      ...         ...      ...      ...         ...   \n",
       "179049  179049  1998-08       11382  54569.5  54569.5         0.0   \n",
       "179050  179050  1998-09       11382  44120.0  44120.0         0.0   \n",
       "179051  179051  1998-10       11382  63262.2  63262.2         0.0   \n",
       "179052  179052  1998-11       11382  50165.7  50165.7         0.0   \n",
       "179053  179053  1998-12       11382  78760.4  78760.4         0.0   \n",
       "\n",
       "        n_transactions    balance card_issued  has_card card_issued_period  \\\n",
       "id                                                                           \n",
       "0                    1     1000.0  1998-09-18     False            1998-09   \n",
       "1                    3    17298.2  1998-09-18     False            1998-09   \n",
       "2                    3    23156.2  1998-09-18     False            1998-09   \n",
       "3                    3    27135.8  1998-09-18     False            1998-09   \n",
       "4                    3    36223.7  1998-09-18     False            1998-09   \n",
       "...                ...        ...         ...       ...                ...   \n",
       "179049               7  2386853.6  1996-09-30     False            1996-09   \n",
       "179050               5  2430973.6  1996-09-30     False            1996-09   \n",
       "179051               6  2494235.8  1996-09-30     False            1996-09   \n",
       "179052               5  2544401.5  1996-09-30     False            1996-09   \n",
       "179053               5  2623161.9  1996-09-30     False            1996-09   \n",
       "\n",
       "        month_diff  \n",
       "id                  \n",
       "0               42  \n",
       "1               41  \n",
       "2               40  \n",
       "3               39  \n",
       "4               38  \n",
       "...            ...  \n",
       "179049         -23  \n",
       "179050         -24  \n",
       "179051         -25  \n",
       "179052         -26  \n",
       "179053         -27  \n",
       "\n",
       "[179054 rows x 12 columns]"
      ]
     },
     "execution_count": 32,
     "metadata": {},
     "output_type": "execute_result"
    }
   ],
   "source": [
    "transactions_monthly"
   ]
  },
  {
   "cell_type": "code",
   "execution_count": 33,
   "metadata": {},
   "outputs": [
    {
     "data": {
      "text/html": [
       "<div>\n",
       "<style scoped>\n",
       "    .dataframe tbody tr th:only-of-type {\n",
       "        vertical-align: middle;\n",
       "    }\n",
       "\n",
       "    .dataframe tbody tr th {\n",
       "        vertical-align: top;\n",
       "    }\n",
       "\n",
       "    .dataframe thead th {\n",
       "        text-align: right;\n",
       "    }\n",
       "</style>\n",
       "<table border=\"1\" class=\"dataframe\">\n",
       "  <thead>\n",
       "    <tr style=\"text-align: right;\">\n",
       "      <th></th>\n",
       "      <th>index</th>\n",
       "      <th>month</th>\n",
       "      <th>account_id</th>\n",
       "      <th>volume</th>\n",
       "      <th>credit</th>\n",
       "      <th>withdrawal</th>\n",
       "      <th>n_transactions</th>\n",
       "      <th>balance</th>\n",
       "      <th>card_issued</th>\n",
       "      <th>has_card</th>\n",
       "      <th>card_issued_period</th>\n",
       "      <th>month_diff</th>\n",
       "    </tr>\n",
       "    <tr>\n",
       "      <th>id</th>\n",
       "      <th></th>\n",
       "      <th></th>\n",
       "      <th></th>\n",
       "      <th></th>\n",
       "      <th></th>\n",
       "      <th></th>\n",
       "      <th></th>\n",
       "      <th></th>\n",
       "      <th></th>\n",
       "      <th></th>\n",
       "      <th></th>\n",
       "      <th></th>\n",
       "    </tr>\n",
       "  </thead>\n",
       "  <tbody>\n",
       "    <tr>\n",
       "      <th>41</th>\n",
       "      <td>41</td>\n",
       "      <td>1998-08</td>\n",
       "      <td>1</td>\n",
       "      <td>6492.7</td>\n",
       "      <td>6492.7</td>\n",
       "      <td>0.0</td>\n",
       "      <td>5</td>\n",
       "      <td>338855.2</td>\n",
       "      <td>1998-09-18</td>\n",
       "      <td>False</td>\n",
       "      <td>1998-09</td>\n",
       "      <td>1</td>\n",
       "    </tr>\n",
       "    <tr>\n",
       "      <th>40</th>\n",
       "      <td>40</td>\n",
       "      <td>1998-07</td>\n",
       "      <td>1</td>\n",
       "      <td>6221.0</td>\n",
       "      <td>6221.0</td>\n",
       "      <td>0.0</td>\n",
       "      <td>4</td>\n",
       "      <td>332362.5</td>\n",
       "      <td>1998-09-18</td>\n",
       "      <td>False</td>\n",
       "      <td>1998-09</td>\n",
       "      <td>2</td>\n",
       "    </tr>\n",
       "    <tr>\n",
       "      <th>39</th>\n",
       "      <td>39</td>\n",
       "      <td>1998-06</td>\n",
       "      <td>1</td>\n",
       "      <td>6667.1</td>\n",
       "      <td>6667.1</td>\n",
       "      <td>0.0</td>\n",
       "      <td>5</td>\n",
       "      <td>326141.5</td>\n",
       "      <td>1998-09-18</td>\n",
       "      <td>False</td>\n",
       "      <td>1998-09</td>\n",
       "      <td>3</td>\n",
       "    </tr>\n",
       "    <tr>\n",
       "      <th>38</th>\n",
       "      <td>38</td>\n",
       "      <td>1998-05</td>\n",
       "      <td>1</td>\n",
       "      <td>6212.3</td>\n",
       "      <td>6212.3</td>\n",
       "      <td>0.0</td>\n",
       "      <td>4</td>\n",
       "      <td>319474.4</td>\n",
       "      <td>1998-09-18</td>\n",
       "      <td>False</td>\n",
       "      <td>1998-09</td>\n",
       "      <td>4</td>\n",
       "    </tr>\n",
       "    <tr>\n",
       "      <th>37</th>\n",
       "      <td>37</td>\n",
       "      <td>1998-04</td>\n",
       "      <td>1</td>\n",
       "      <td>7435.5</td>\n",
       "      <td>7435.5</td>\n",
       "      <td>0.0</td>\n",
       "      <td>6</td>\n",
       "      <td>313262.1</td>\n",
       "      <td>1998-09-18</td>\n",
       "      <td>False</td>\n",
       "      <td>1998-09</td>\n",
       "      <td>5</td>\n",
       "    </tr>\n",
       "    <tr>\n",
       "      <th>...</th>\n",
       "      <td>...</td>\n",
       "      <td>...</td>\n",
       "      <td>...</td>\n",
       "      <td>...</td>\n",
       "      <td>...</td>\n",
       "      <td>...</td>\n",
       "      <td>...</td>\n",
       "      <td>...</td>\n",
       "      <td>...</td>\n",
       "      <td>...</td>\n",
       "      <td>...</td>\n",
       "      <td>...</td>\n",
       "    </tr>\n",
       "    <tr>\n",
       "      <th>179017</th>\n",
       "      <td>179017</td>\n",
       "      <td>1995-12</td>\n",
       "      <td>11382</td>\n",
       "      <td>82563.6</td>\n",
       "      <td>82563.6</td>\n",
       "      <td>0.0</td>\n",
       "      <td>4</td>\n",
       "      <td>221665.9</td>\n",
       "      <td>1996-09-30</td>\n",
       "      <td>False</td>\n",
       "      <td>1996-09</td>\n",
       "      <td>9</td>\n",
       "    </tr>\n",
       "    <tr>\n",
       "      <th>179016</th>\n",
       "      <td>179016</td>\n",
       "      <td>1995-11</td>\n",
       "      <td>11382</td>\n",
       "      <td>51280.6</td>\n",
       "      <td>51280.6</td>\n",
       "      <td>0.0</td>\n",
       "      <td>4</td>\n",
       "      <td>139102.3</td>\n",
       "      <td>1996-09-30</td>\n",
       "      <td>False</td>\n",
       "      <td>1996-09</td>\n",
       "      <td>10</td>\n",
       "    </tr>\n",
       "    <tr>\n",
       "      <th>179015</th>\n",
       "      <td>179015</td>\n",
       "      <td>1995-10</td>\n",
       "      <td>11382</td>\n",
       "      <td>49912.3</td>\n",
       "      <td>49912.3</td>\n",
       "      <td>0.0</td>\n",
       "      <td>4</td>\n",
       "      <td>87821.7</td>\n",
       "      <td>1996-09-30</td>\n",
       "      <td>False</td>\n",
       "      <td>1996-09</td>\n",
       "      <td>11</td>\n",
       "    </tr>\n",
       "    <tr>\n",
       "      <th>179014</th>\n",
       "      <td>179014</td>\n",
       "      <td>1995-09</td>\n",
       "      <td>11382</td>\n",
       "      <td>37709.4</td>\n",
       "      <td>37709.4</td>\n",
       "      <td>0.0</td>\n",
       "      <td>4</td>\n",
       "      <td>37909.4</td>\n",
       "      <td>1996-09-30</td>\n",
       "      <td>False</td>\n",
       "      <td>1996-09</td>\n",
       "      <td>12</td>\n",
       "    </tr>\n",
       "    <tr>\n",
       "      <th>179013</th>\n",
       "      <td>179013</td>\n",
       "      <td>1995-08</td>\n",
       "      <td>11382</td>\n",
       "      <td>200.0</td>\n",
       "      <td>200.0</td>\n",
       "      <td>0.0</td>\n",
       "      <td>1</td>\n",
       "      <td>200.0</td>\n",
       "      <td>1996-09-30</td>\n",
       "      <td>False</td>\n",
       "      <td>1996-09</td>\n",
       "      <td>13</td>\n",
       "    </tr>\n",
       "  </tbody>\n",
       "</table>\n",
       "<p>44962 rows × 12 columns</p>\n",
       "</div>"
      ],
      "text/plain": [
       "         index    month  account_id   volume   credit  withdrawal  \\\n",
       "id                                                                  \n",
       "41          41  1998-08           1   6492.7   6492.7         0.0   \n",
       "40          40  1998-07           1   6221.0   6221.0         0.0   \n",
       "39          39  1998-06           1   6667.1   6667.1         0.0   \n",
       "38          38  1998-05           1   6212.3   6212.3         0.0   \n",
       "37          37  1998-04           1   7435.5   7435.5         0.0   \n",
       "...        ...      ...         ...      ...      ...         ...   \n",
       "179017  179017  1995-12       11382  82563.6  82563.6         0.0   \n",
       "179016  179016  1995-11       11382  51280.6  51280.6         0.0   \n",
       "179015  179015  1995-10       11382  49912.3  49912.3         0.0   \n",
       "179014  179014  1995-09       11382  37709.4  37709.4         0.0   \n",
       "179013  179013  1995-08       11382    200.0    200.0         0.0   \n",
       "\n",
       "        n_transactions   balance card_issued  has_card card_issued_period  \\\n",
       "id                                                                          \n",
       "41                   5  338855.2  1998-09-18     False            1998-09   \n",
       "40                   4  332362.5  1998-09-18     False            1998-09   \n",
       "39                   5  326141.5  1998-09-18     False            1998-09   \n",
       "38                   4  319474.4  1998-09-18     False            1998-09   \n",
       "37                   6  313262.1  1998-09-18     False            1998-09   \n",
       "...                ...       ...         ...       ...                ...   \n",
       "179017               4  221665.9  1996-09-30     False            1996-09   \n",
       "179016               4  139102.3  1996-09-30     False            1996-09   \n",
       "179015               4   87821.7  1996-09-30     False            1996-09   \n",
       "179014               4   37909.4  1996-09-30     False            1996-09   \n",
       "179013               1     200.0  1996-09-30     False            1996-09   \n",
       "\n",
       "        month_diff  \n",
       "id                  \n",
       "41               1  \n",
       "40               2  \n",
       "39               3  \n",
       "38               4  \n",
       "37               5  \n",
       "...            ...  \n",
       "179017           9  \n",
       "179016          10  \n",
       "179015          11  \n",
       "179014          12  \n",
       "179013          13  \n",
       "\n",
       "[44962 rows x 12 columns]"
      ]
     },
     "execution_count": 33,
     "metadata": {},
     "output_type": "execute_result"
    }
   ],
   "source": [
    "filtered_transactions.sort_values(by=['account_id', 'month_diff'])"
   ]
  },
  {
   "cell_type": "markdown",
   "metadata": {},
   "source": [
    "#### Pivoting the transactions"
   ]
  },
  {
   "cell_type": "markdown",
   "metadata": {},
   "source": [
    "An issue at this point can be that an account may have months without any transactions, so there needs to be a more thorough process to interpolate the data:\n",
    "- **Volume, Withdrawal, Credit and Number of Transactions**: If there are missing months in these variables we can just set `0` as their value as there has not been any activity if there were no recorded months.\n",
    "- **Balance**: The balance will get recursively set to the last preceding recorded month. So if there are consecutive \"missing\" months in transactions the balance will always be set to the last recorded month."
   ]
  },
  {
   "cell_type": "code",
   "execution_count": 34,
   "metadata": {},
   "outputs": [],
   "source": [
    "account_summary = pd.DataFrame(filtered_transactions['account_id'].unique(), columns=['account_id'])\n",
    "\n",
    "variables_to_pivot = ['volume', 'withdrawal', 'credit', 'n_transactions', 'balance']\n",
    "\n",
    "for variable in variables_to_pivot:\n",
    "    grouped = filtered_transactions.groupby(['account_id', 'month_diff'])[variable].sum().reset_index()\n",
    "    pivot = grouped.pivot(index='account_id', columns='month_diff', values=variable).reset_index()\n",
    "    pivot.columns = ['account_id'] + [f'{variable}_month_diff_{int(col)}' if col != 'account_id' else 'account_id' for col in pivot.columns[1:]]\n",
    "    account_summary = pd.merge(account_summary, pivot, on='account_id', how='left')\n",
    "\n",
    "for variable in ['volume', 'withdrawal', 'credit', 'n_transactions']:\n",
    "    account_summary.update(account_summary.filter(regex=f'^{variable}_').fillna(0))\n",
    "\n",
    "def find_last_balance(account_id, starting_month_diff):\n",
    "    higher_month_diff = transactions_monthly[\n",
    "        (transactions_monthly['account_id'] == account_id) & \n",
    "        (transactions_monthly['month_diff'] >= starting_month_diff)\n",
    "    ].sort_values('month_diff')\n",
    "    \n",
    "    last_balance_row = higher_month_diff[higher_month_diff['balance'].notna()].head(1)\n",
    "    \n",
    "    if not last_balance_row.empty:\n",
    "        return last_balance_row.iloc[0]['balance']\n",
    "    else:\n",
    "        return 0\n",
    "\n",
    "balance_columns = [col for col in account_summary.columns if 'balance_month_diff_' in col]\n",
    "for idx, row in account_summary.iterrows():\n",
    "    for col in balance_columns:\n",
    "        if pd.isna(row[col]):\n",
    "            month_diff = int(col.split('_')[-1])\n",
    "            last_balance = find_last_balance(row['account_id'], month_diff + 1)\n",
    "            account_summary.at[idx, col] = last_balance"
   ]
  },
  {
   "cell_type": "code",
   "execution_count": 35,
   "metadata": {},
   "outputs": [
    {
     "data": {
      "text/html": [
       "<div>\n",
       "<style scoped>\n",
       "    .dataframe tbody tr th:only-of-type {\n",
       "        vertical-align: middle;\n",
       "    }\n",
       "\n",
       "    .dataframe tbody tr th {\n",
       "        vertical-align: top;\n",
       "    }\n",
       "\n",
       "    .dataframe thead th {\n",
       "        text-align: right;\n",
       "    }\n",
       "</style>\n",
       "<table border=\"1\" class=\"dataframe\">\n",
       "  <thead>\n",
       "    <tr style=\"text-align: right;\">\n",
       "      <th></th>\n",
       "      <th>account_id</th>\n",
       "      <th>volume_month_diff_1</th>\n",
       "      <th>volume_month_diff_2</th>\n",
       "      <th>volume_month_diff_3</th>\n",
       "      <th>volume_month_diff_4</th>\n",
       "      <th>volume_month_diff_5</th>\n",
       "      <th>volume_month_diff_6</th>\n",
       "      <th>volume_month_diff_7</th>\n",
       "      <th>volume_month_diff_8</th>\n",
       "      <th>volume_month_diff_9</th>\n",
       "      <th>volume_month_diff_10</th>\n",
       "      <th>volume_month_diff_11</th>\n",
       "      <th>volume_month_diff_12</th>\n",
       "      <th>volume_month_diff_13</th>\n",
       "      <th>withdrawal_month_diff_1</th>\n",
       "      <th>withdrawal_month_diff_2</th>\n",
       "      <th>withdrawal_month_diff_3</th>\n",
       "      <th>withdrawal_month_diff_4</th>\n",
       "      <th>withdrawal_month_diff_5</th>\n",
       "      <th>withdrawal_month_diff_6</th>\n",
       "      <th>withdrawal_month_diff_7</th>\n",
       "      <th>withdrawal_month_diff_8</th>\n",
       "      <th>withdrawal_month_diff_9</th>\n",
       "      <th>withdrawal_month_diff_10</th>\n",
       "      <th>withdrawal_month_diff_11</th>\n",
       "      <th>withdrawal_month_diff_12</th>\n",
       "      <th>withdrawal_month_diff_13</th>\n",
       "      <th>credit_month_diff_1</th>\n",
       "      <th>credit_month_diff_2</th>\n",
       "      <th>credit_month_diff_3</th>\n",
       "      <th>credit_month_diff_4</th>\n",
       "      <th>credit_month_diff_5</th>\n",
       "      <th>credit_month_diff_6</th>\n",
       "      <th>credit_month_diff_7</th>\n",
       "      <th>credit_month_diff_8</th>\n",
       "      <th>credit_month_diff_9</th>\n",
       "      <th>credit_month_diff_10</th>\n",
       "      <th>credit_month_diff_11</th>\n",
       "      <th>credit_month_diff_12</th>\n",
       "      <th>credit_month_diff_13</th>\n",
       "      <th>n_transactions_month_diff_1</th>\n",
       "      <th>n_transactions_month_diff_2</th>\n",
       "      <th>n_transactions_month_diff_3</th>\n",
       "      <th>n_transactions_month_diff_4</th>\n",
       "      <th>n_transactions_month_diff_5</th>\n",
       "      <th>n_transactions_month_diff_6</th>\n",
       "      <th>n_transactions_month_diff_7</th>\n",
       "      <th>n_transactions_month_diff_8</th>\n",
       "      <th>n_transactions_month_diff_9</th>\n",
       "      <th>n_transactions_month_diff_10</th>\n",
       "      <th>n_transactions_month_diff_11</th>\n",
       "      <th>n_transactions_month_diff_12</th>\n",
       "      <th>n_transactions_month_diff_13</th>\n",
       "      <th>balance_month_diff_1</th>\n",
       "      <th>balance_month_diff_2</th>\n",
       "      <th>balance_month_diff_3</th>\n",
       "      <th>balance_month_diff_4</th>\n",
       "      <th>balance_month_diff_5</th>\n",
       "      <th>balance_month_diff_6</th>\n",
       "      <th>balance_month_diff_7</th>\n",
       "      <th>balance_month_diff_8</th>\n",
       "      <th>balance_month_diff_9</th>\n",
       "      <th>balance_month_diff_10</th>\n",
       "      <th>balance_month_diff_11</th>\n",
       "      <th>balance_month_diff_12</th>\n",
       "      <th>balance_month_diff_13</th>\n",
       "    </tr>\n",
       "  </thead>\n",
       "  <tbody>\n",
       "    <tr>\n",
       "      <th>0</th>\n",
       "      <td>1</td>\n",
       "      <td>6492.7</td>\n",
       "      <td>6221.0</td>\n",
       "      <td>6667.1</td>\n",
       "      <td>6212.3</td>\n",
       "      <td>7435.5</td>\n",
       "      <td>7018.6</td>\n",
       "      <td>6701.9</td>\n",
       "      <td>9091.5</td>\n",
       "      <td>10907.2</td>\n",
       "      <td>7318.0</td>\n",
       "      <td>6218.0</td>\n",
       "      <td>6600.6</td>\n",
       "      <td>8282.7</td>\n",
       "      <td>0.0</td>\n",
       "      <td>0.0</td>\n",
       "      <td>0.0</td>\n",
       "      <td>0.0</td>\n",
       "      <td>0.0</td>\n",
       "      <td>0.0</td>\n",
       "      <td>0.0</td>\n",
       "      <td>0.0</td>\n",
       "      <td>0.0</td>\n",
       "      <td>0.0</td>\n",
       "      <td>0.0</td>\n",
       "      <td>0.0</td>\n",
       "      <td>0.0</td>\n",
       "      <td>6492.7</td>\n",
       "      <td>6221.0</td>\n",
       "      <td>6667.1</td>\n",
       "      <td>6212.3</td>\n",
       "      <td>7435.5</td>\n",
       "      <td>7018.6</td>\n",
       "      <td>6701.9</td>\n",
       "      <td>9091.5</td>\n",
       "      <td>10907.2</td>\n",
       "      <td>7318.0</td>\n",
       "      <td>6218.0</td>\n",
       "      <td>6600.6</td>\n",
       "      <td>8282.7</td>\n",
       "      <td>5.0</td>\n",
       "      <td>4.0</td>\n",
       "      <td>5.0</td>\n",
       "      <td>4.0</td>\n",
       "      <td>6.0</td>\n",
       "      <td>5.0</td>\n",
       "      <td>5.0</td>\n",
       "      <td>10.0</td>\n",
       "      <td>5.0</td>\n",
       "      <td>5.0</td>\n",
       "      <td>4.0</td>\n",
       "      <td>5.0</td>\n",
       "      <td>6.0</td>\n",
       "      <td>338855.2</td>\n",
       "      <td>332362.5</td>\n",
       "      <td>326141.5</td>\n",
       "      <td>319474.4</td>\n",
       "      <td>313262.1</td>\n",
       "      <td>305826.6</td>\n",
       "      <td>298808.0</td>\n",
       "      <td>292106.1</td>\n",
       "      <td>283014.6</td>\n",
       "      <td>272107.4</td>\n",
       "      <td>264789.4</td>\n",
       "      <td>258571.4</td>\n",
       "      <td>251970.8</td>\n",
       "    </tr>\n",
       "    <tr>\n",
       "      <th>1</th>\n",
       "      <td>2</td>\n",
       "      <td>34617.6</td>\n",
       "      <td>45943.4</td>\n",
       "      <td>52856.1</td>\n",
       "      <td>47098.6</td>\n",
       "      <td>52913.9</td>\n",
       "      <td>37980.7</td>\n",
       "      <td>31345.5</td>\n",
       "      <td>23949.5</td>\n",
       "      <td>1100.0</td>\n",
       "      <td>0.0</td>\n",
       "      <td>0.0</td>\n",
       "      <td>0.0</td>\n",
       "      <td>0.0</td>\n",
       "      <td>0.0</td>\n",
       "      <td>0.0</td>\n",
       "      <td>0.0</td>\n",
       "      <td>0.0</td>\n",
       "      <td>0.0</td>\n",
       "      <td>0.0</td>\n",
       "      <td>0.0</td>\n",
       "      <td>0.0</td>\n",
       "      <td>0.0</td>\n",
       "      <td>0.0</td>\n",
       "      <td>0.0</td>\n",
       "      <td>0.0</td>\n",
       "      <td>0.0</td>\n",
       "      <td>34617.6</td>\n",
       "      <td>45943.4</td>\n",
       "      <td>52856.1</td>\n",
       "      <td>47098.6</td>\n",
       "      <td>52913.9</td>\n",
       "      <td>37980.7</td>\n",
       "      <td>31345.5</td>\n",
       "      <td>23949.5</td>\n",
       "      <td>1100.0</td>\n",
       "      <td>0.0</td>\n",
       "      <td>0.0</td>\n",
       "      <td>0.0</td>\n",
       "      <td>0.0</td>\n",
       "      <td>6.0</td>\n",
       "      <td>7.0</td>\n",
       "      <td>7.0</td>\n",
       "      <td>6.0</td>\n",
       "      <td>3.0</td>\n",
       "      <td>3.0</td>\n",
       "      <td>3.0</td>\n",
       "      <td>3.0</td>\n",
       "      <td>1.0</td>\n",
       "      <td>0.0</td>\n",
       "      <td>0.0</td>\n",
       "      <td>0.0</td>\n",
       "      <td>0.0</td>\n",
       "      <td>327805.3</td>\n",
       "      <td>293187.7</td>\n",
       "      <td>247244.3</td>\n",
       "      <td>194388.2</td>\n",
       "      <td>147289.6</td>\n",
       "      <td>94375.7</td>\n",
       "      <td>56395.0</td>\n",
       "      <td>25049.5</td>\n",
       "      <td>1100.0</td>\n",
       "      <td>0.0</td>\n",
       "      <td>0.0</td>\n",
       "      <td>0.0</td>\n",
       "      <td>0.0</td>\n",
       "    </tr>\n",
       "    <tr>\n",
       "      <th>2</th>\n",
       "      <td>4</td>\n",
       "      <td>10917.6</td>\n",
       "      <td>12013.8</td>\n",
       "      <td>9011.7</td>\n",
       "      <td>14254.5</td>\n",
       "      <td>11343.0</td>\n",
       "      <td>9015.0</td>\n",
       "      <td>10769.2</td>\n",
       "      <td>9003.4</td>\n",
       "      <td>20249.4</td>\n",
       "      <td>13529.7</td>\n",
       "      <td>9040.6</td>\n",
       "      <td>9031.2</td>\n",
       "      <td>12329.5</td>\n",
       "      <td>0.0</td>\n",
       "      <td>0.0</td>\n",
       "      <td>0.0</td>\n",
       "      <td>0.0</td>\n",
       "      <td>0.0</td>\n",
       "      <td>0.0</td>\n",
       "      <td>0.0</td>\n",
       "      <td>0.0</td>\n",
       "      <td>0.0</td>\n",
       "      <td>0.0</td>\n",
       "      <td>0.0</td>\n",
       "      <td>0.0</td>\n",
       "      <td>0.0</td>\n",
       "      <td>10917.6</td>\n",
       "      <td>12013.8</td>\n",
       "      <td>9011.7</td>\n",
       "      <td>14254.5</td>\n",
       "      <td>11343.0</td>\n",
       "      <td>9015.0</td>\n",
       "      <td>10769.2</td>\n",
       "      <td>9003.4</td>\n",
       "      <td>20249.4</td>\n",
       "      <td>13529.7</td>\n",
       "      <td>9040.6</td>\n",
       "      <td>9031.2</td>\n",
       "      <td>12329.5</td>\n",
       "      <td>6.0</td>\n",
       "      <td>6.0</td>\n",
       "      <td>5.0</td>\n",
       "      <td>6.0</td>\n",
       "      <td>7.0</td>\n",
       "      <td>5.0</td>\n",
       "      <td>6.0</td>\n",
       "      <td>5.0</td>\n",
       "      <td>12.0</td>\n",
       "      <td>7.0</td>\n",
       "      <td>5.0</td>\n",
       "      <td>5.0</td>\n",
       "      <td>6.0</td>\n",
       "      <td>195475.7</td>\n",
       "      <td>184558.1</td>\n",
       "      <td>172544.3</td>\n",
       "      <td>163532.6</td>\n",
       "      <td>149278.1</td>\n",
       "      <td>137935.1</td>\n",
       "      <td>128920.1</td>\n",
       "      <td>118150.9</td>\n",
       "      <td>109147.5</td>\n",
       "      <td>88898.1</td>\n",
       "      <td>75368.4</td>\n",
       "      <td>66327.8</td>\n",
       "      <td>57296.6</td>\n",
       "    </tr>\n",
       "    <tr>\n",
       "      <th>3</th>\n",
       "      <td>5</td>\n",
       "      <td>8607.1</td>\n",
       "      <td>7797.2</td>\n",
       "      <td>15720.3</td>\n",
       "      <td>10825.1</td>\n",
       "      <td>7812.5</td>\n",
       "      <td>5035.1</td>\n",
       "      <td>5017.0</td>\n",
       "      <td>5017.0</td>\n",
       "      <td>5017.0</td>\n",
       "      <td>5017.0</td>\n",
       "      <td>600.0</td>\n",
       "      <td>0.0</td>\n",
       "      <td>0.0</td>\n",
       "      <td>0.0</td>\n",
       "      <td>0.0</td>\n",
       "      <td>0.0</td>\n",
       "      <td>0.0</td>\n",
       "      <td>0.0</td>\n",
       "      <td>0.0</td>\n",
       "      <td>0.0</td>\n",
       "      <td>0.0</td>\n",
       "      <td>0.0</td>\n",
       "      <td>0.0</td>\n",
       "      <td>0.0</td>\n",
       "      <td>0.0</td>\n",
       "      <td>0.0</td>\n",
       "      <td>8607.1</td>\n",
       "      <td>7797.2</td>\n",
       "      <td>15720.3</td>\n",
       "      <td>10825.1</td>\n",
       "      <td>7812.5</td>\n",
       "      <td>5035.1</td>\n",
       "      <td>5017.0</td>\n",
       "      <td>5017.0</td>\n",
       "      <td>5017.0</td>\n",
       "      <td>5017.0</td>\n",
       "      <td>600.0</td>\n",
       "      <td>0.0</td>\n",
       "      <td>0.0</td>\n",
       "      <td>5.0</td>\n",
       "      <td>4.0</td>\n",
       "      <td>10.0</td>\n",
       "      <td>6.0</td>\n",
       "      <td>4.0</td>\n",
       "      <td>3.0</td>\n",
       "      <td>1.0</td>\n",
       "      <td>1.0</td>\n",
       "      <td>1.0</td>\n",
       "      <td>1.0</td>\n",
       "      <td>1.0</td>\n",
       "      <td>0.0</td>\n",
       "      <td>0.0</td>\n",
       "      <td>76465.3</td>\n",
       "      <td>67858.2</td>\n",
       "      <td>60061.0</td>\n",
       "      <td>44340.7</td>\n",
       "      <td>33515.6</td>\n",
       "      <td>25703.1</td>\n",
       "      <td>20668.0</td>\n",
       "      <td>15651.0</td>\n",
       "      <td>10634.0</td>\n",
       "      <td>5617.0</td>\n",
       "      <td>600.0</td>\n",
       "      <td>0.0</td>\n",
       "      <td>0.0</td>\n",
       "    </tr>\n",
       "    <tr>\n",
       "      <th>4</th>\n",
       "      <td>6</td>\n",
       "      <td>14333.0</td>\n",
       "      <td>10810.0</td>\n",
       "      <td>10798.3</td>\n",
       "      <td>11989.9</td>\n",
       "      <td>20888.8</td>\n",
       "      <td>13055.1</td>\n",
       "      <td>10807.0</td>\n",
       "      <td>13039.2</td>\n",
       "      <td>10792.4</td>\n",
       "      <td>23857.9</td>\n",
       "      <td>11865.2</td>\n",
       "      <td>10815.6</td>\n",
       "      <td>10803.9</td>\n",
       "      <td>0.0</td>\n",
       "      <td>0.0</td>\n",
       "      <td>0.0</td>\n",
       "      <td>0.0</td>\n",
       "      <td>0.0</td>\n",
       "      <td>0.0</td>\n",
       "      <td>0.0</td>\n",
       "      <td>0.0</td>\n",
       "      <td>0.0</td>\n",
       "      <td>0.0</td>\n",
       "      <td>0.0</td>\n",
       "      <td>0.0</td>\n",
       "      <td>0.0</td>\n",
       "      <td>14333.0</td>\n",
       "      <td>10810.0</td>\n",
       "      <td>10798.3</td>\n",
       "      <td>11989.9</td>\n",
       "      <td>20888.8</td>\n",
       "      <td>13055.1</td>\n",
       "      <td>10807.0</td>\n",
       "      <td>13039.2</td>\n",
       "      <td>10792.4</td>\n",
       "      <td>23857.9</td>\n",
       "      <td>11865.2</td>\n",
       "      <td>10815.6</td>\n",
       "      <td>10803.9</td>\n",
       "      <td>5.0</td>\n",
       "      <td>4.0</td>\n",
       "      <td>4.0</td>\n",
       "      <td>5.0</td>\n",
       "      <td>6.0</td>\n",
       "      <td>5.0</td>\n",
       "      <td>4.0</td>\n",
       "      <td>5.0</td>\n",
       "      <td>4.0</td>\n",
       "      <td>11.0</td>\n",
       "      <td>6.0</td>\n",
       "      <td>4.0</td>\n",
       "      <td>4.0</td>\n",
       "      <td>625481.9</td>\n",
       "      <td>611148.9</td>\n",
       "      <td>600338.9</td>\n",
       "      <td>589540.6</td>\n",
       "      <td>577550.7</td>\n",
       "      <td>556661.9</td>\n",
       "      <td>543606.8</td>\n",
       "      <td>532799.8</td>\n",
       "      <td>519760.6</td>\n",
       "      <td>508968.2</td>\n",
       "      <td>485110.3</td>\n",
       "      <td>473245.1</td>\n",
       "      <td>462429.5</td>\n",
       "    </tr>\n",
       "  </tbody>\n",
       "</table>\n",
       "</div>"
      ],
      "text/plain": [
       "   account_id  volume_month_diff_1  volume_month_diff_2  volume_month_diff_3  \\\n",
       "0           1               6492.7               6221.0               6667.1   \n",
       "1           2              34617.6              45943.4              52856.1   \n",
       "2           4              10917.6              12013.8               9011.7   \n",
       "3           5               8607.1               7797.2              15720.3   \n",
       "4           6              14333.0              10810.0              10798.3   \n",
       "\n",
       "   volume_month_diff_4  volume_month_diff_5  volume_month_diff_6  \\\n",
       "0               6212.3               7435.5               7018.6   \n",
       "1              47098.6              52913.9              37980.7   \n",
       "2              14254.5              11343.0               9015.0   \n",
       "3              10825.1               7812.5               5035.1   \n",
       "4              11989.9              20888.8              13055.1   \n",
       "\n",
       "   volume_month_diff_7  volume_month_diff_8  volume_month_diff_9  \\\n",
       "0               6701.9               9091.5              10907.2   \n",
       "1              31345.5              23949.5               1100.0   \n",
       "2              10769.2               9003.4              20249.4   \n",
       "3               5017.0               5017.0               5017.0   \n",
       "4              10807.0              13039.2              10792.4   \n",
       "\n",
       "   volume_month_diff_10  volume_month_diff_11  volume_month_diff_12  \\\n",
       "0                7318.0                6218.0                6600.6   \n",
       "1                   0.0                   0.0                   0.0   \n",
       "2               13529.7                9040.6                9031.2   \n",
       "3                5017.0                 600.0                   0.0   \n",
       "4               23857.9               11865.2               10815.6   \n",
       "\n",
       "   volume_month_diff_13  withdrawal_month_diff_1  withdrawal_month_diff_2  \\\n",
       "0                8282.7                      0.0                      0.0   \n",
       "1                   0.0                      0.0                      0.0   \n",
       "2               12329.5                      0.0                      0.0   \n",
       "3                   0.0                      0.0                      0.0   \n",
       "4               10803.9                      0.0                      0.0   \n",
       "\n",
       "   withdrawal_month_diff_3  withdrawal_month_diff_4  withdrawal_month_diff_5  \\\n",
       "0                      0.0                      0.0                      0.0   \n",
       "1                      0.0                      0.0                      0.0   \n",
       "2                      0.0                      0.0                      0.0   \n",
       "3                      0.0                      0.0                      0.0   \n",
       "4                      0.0                      0.0                      0.0   \n",
       "\n",
       "   withdrawal_month_diff_6  withdrawal_month_diff_7  withdrawal_month_diff_8  \\\n",
       "0                      0.0                      0.0                      0.0   \n",
       "1                      0.0                      0.0                      0.0   \n",
       "2                      0.0                      0.0                      0.0   \n",
       "3                      0.0                      0.0                      0.0   \n",
       "4                      0.0                      0.0                      0.0   \n",
       "\n",
       "   withdrawal_month_diff_9  withdrawal_month_diff_10  \\\n",
       "0                      0.0                       0.0   \n",
       "1                      0.0                       0.0   \n",
       "2                      0.0                       0.0   \n",
       "3                      0.0                       0.0   \n",
       "4                      0.0                       0.0   \n",
       "\n",
       "   withdrawal_month_diff_11  withdrawal_month_diff_12  \\\n",
       "0                       0.0                       0.0   \n",
       "1                       0.0                       0.0   \n",
       "2                       0.0                       0.0   \n",
       "3                       0.0                       0.0   \n",
       "4                       0.0                       0.0   \n",
       "\n",
       "   withdrawal_month_diff_13  credit_month_diff_1  credit_month_diff_2  \\\n",
       "0                       0.0               6492.7               6221.0   \n",
       "1                       0.0              34617.6              45943.4   \n",
       "2                       0.0              10917.6              12013.8   \n",
       "3                       0.0               8607.1               7797.2   \n",
       "4                       0.0              14333.0              10810.0   \n",
       "\n",
       "   credit_month_diff_3  credit_month_diff_4  credit_month_diff_5  \\\n",
       "0               6667.1               6212.3               7435.5   \n",
       "1              52856.1              47098.6              52913.9   \n",
       "2               9011.7              14254.5              11343.0   \n",
       "3              15720.3              10825.1               7812.5   \n",
       "4              10798.3              11989.9              20888.8   \n",
       "\n",
       "   credit_month_diff_6  credit_month_diff_7  credit_month_diff_8  \\\n",
       "0               7018.6               6701.9               9091.5   \n",
       "1              37980.7              31345.5              23949.5   \n",
       "2               9015.0              10769.2               9003.4   \n",
       "3               5035.1               5017.0               5017.0   \n",
       "4              13055.1              10807.0              13039.2   \n",
       "\n",
       "   credit_month_diff_9  credit_month_diff_10  credit_month_diff_11  \\\n",
       "0              10907.2                7318.0                6218.0   \n",
       "1               1100.0                   0.0                   0.0   \n",
       "2              20249.4               13529.7                9040.6   \n",
       "3               5017.0                5017.0                 600.0   \n",
       "4              10792.4               23857.9               11865.2   \n",
       "\n",
       "   credit_month_diff_12  credit_month_diff_13  n_transactions_month_diff_1  \\\n",
       "0                6600.6                8282.7                          5.0   \n",
       "1                   0.0                   0.0                          6.0   \n",
       "2                9031.2               12329.5                          6.0   \n",
       "3                   0.0                   0.0                          5.0   \n",
       "4               10815.6               10803.9                          5.0   \n",
       "\n",
       "   n_transactions_month_diff_2  n_transactions_month_diff_3  \\\n",
       "0                          4.0                          5.0   \n",
       "1                          7.0                          7.0   \n",
       "2                          6.0                          5.0   \n",
       "3                          4.0                         10.0   \n",
       "4                          4.0                          4.0   \n",
       "\n",
       "   n_transactions_month_diff_4  n_transactions_month_diff_5  \\\n",
       "0                          4.0                          6.0   \n",
       "1                          6.0                          3.0   \n",
       "2                          6.0                          7.0   \n",
       "3                          6.0                          4.0   \n",
       "4                          5.0                          6.0   \n",
       "\n",
       "   n_transactions_month_diff_6  n_transactions_month_diff_7  \\\n",
       "0                          5.0                          5.0   \n",
       "1                          3.0                          3.0   \n",
       "2                          5.0                          6.0   \n",
       "3                          3.0                          1.0   \n",
       "4                          5.0                          4.0   \n",
       "\n",
       "   n_transactions_month_diff_8  n_transactions_month_diff_9  \\\n",
       "0                         10.0                          5.0   \n",
       "1                          3.0                          1.0   \n",
       "2                          5.0                         12.0   \n",
       "3                          1.0                          1.0   \n",
       "4                          5.0                          4.0   \n",
       "\n",
       "   n_transactions_month_diff_10  n_transactions_month_diff_11  \\\n",
       "0                           5.0                           4.0   \n",
       "1                           0.0                           0.0   \n",
       "2                           7.0                           5.0   \n",
       "3                           1.0                           1.0   \n",
       "4                          11.0                           6.0   \n",
       "\n",
       "   n_transactions_month_diff_12  n_transactions_month_diff_13  \\\n",
       "0                           5.0                           6.0   \n",
       "1                           0.0                           0.0   \n",
       "2                           5.0                           6.0   \n",
       "3                           0.0                           0.0   \n",
       "4                           4.0                           4.0   \n",
       "\n",
       "   balance_month_diff_1  balance_month_diff_2  balance_month_diff_3  \\\n",
       "0              338855.2              332362.5              326141.5   \n",
       "1              327805.3              293187.7              247244.3   \n",
       "2              195475.7              184558.1              172544.3   \n",
       "3               76465.3               67858.2               60061.0   \n",
       "4              625481.9              611148.9              600338.9   \n",
       "\n",
       "   balance_month_diff_4  balance_month_diff_5  balance_month_diff_6  \\\n",
       "0              319474.4              313262.1              305826.6   \n",
       "1              194388.2              147289.6               94375.7   \n",
       "2              163532.6              149278.1              137935.1   \n",
       "3               44340.7               33515.6               25703.1   \n",
       "4              589540.6              577550.7              556661.9   \n",
       "\n",
       "   balance_month_diff_7  balance_month_diff_8  balance_month_diff_9  \\\n",
       "0              298808.0              292106.1              283014.6   \n",
       "1               56395.0               25049.5                1100.0   \n",
       "2              128920.1              118150.9              109147.5   \n",
       "3               20668.0               15651.0               10634.0   \n",
       "4              543606.8              532799.8              519760.6   \n",
       "\n",
       "   balance_month_diff_10  balance_month_diff_11  balance_month_diff_12  \\\n",
       "0               272107.4               264789.4               258571.4   \n",
       "1                    0.0                    0.0                    0.0   \n",
       "2                88898.1                75368.4                66327.8   \n",
       "3                 5617.0                  600.0                    0.0   \n",
       "4               508968.2               485110.3               473245.1   \n",
       "\n",
       "   balance_month_diff_13  \n",
       "0               251970.8  \n",
       "1                    0.0  \n",
       "2                57296.6  \n",
       "3                    0.0  \n",
       "4               462429.5  "
      ]
     },
     "execution_count": 35,
     "metadata": {},
     "output_type": "execute_result"
    }
   ],
   "source": [
    "account_summary.head()"
   ]
  },
  {
   "cell_type": "code",
   "execution_count": 36,
   "metadata": {},
   "outputs": [],
   "source": [
    "client_df = client_df.merge(account_summary, on='account_id', how='inner')"
   ]
  },
  {
   "cell_type": "markdown",
   "metadata": {},
   "source": [
    "### Bringing the data together"
   ]
  },
  {
   "cell_type": "code",
   "execution_count": 37,
   "metadata": {},
   "outputs": [
    {
     "data": {
      "application/vnd.plotly.v1+json": {
       "config": {
        "plotlyServerURL": "https://plot.ly"
       },
       "data": [
        {
         "connector": {
          "line": {
           "color": "rgb(63, 63, 63)"
          }
         },
         "measure": [
          "absolute",
          "relative",
          "relative",
          "relative",
          "total"
         ],
         "name": "20",
         "orientation": "v",
         "text": [
          "4500",
          "-145",
          "-410",
          "-3945"
         ],
         "textposition": "outside",
         "type": "waterfall",
         "x": [
          "Base Client List",
          "Junior Clients",
          "Clients with less than 13 Months of Transaction History",
          "Non-Card-Holders that were not matched on account activity",
          "Remaining Clients"
         ],
         "y": [
          4500,
          -145,
          -410,
          -3945
         ]
        }
       ],
       "layout": {
        "showlegend": true,
        "template": {
         "data": {
          "bar": [
           {
            "error_x": {
             "color": "rgb(51,51,51)"
            },
            "error_y": {
             "color": "rgb(51,51,51)"
            },
            "marker": {
             "line": {
              "color": "rgb(237,237,237)",
              "width": 0.5
             },
             "pattern": {
              "fillmode": "overlay",
              "size": 10,
              "solidity": 0.2
             }
            },
            "type": "bar"
           }
          ],
          "barpolar": [
           {
            "marker": {
             "line": {
              "color": "rgb(237,237,237)",
              "width": 0.5
             },
             "pattern": {
              "fillmode": "overlay",
              "size": 10,
              "solidity": 0.2
             }
            },
            "type": "barpolar"
           }
          ],
          "carpet": [
           {
            "aaxis": {
             "endlinecolor": "rgb(51,51,51)",
             "gridcolor": "white",
             "linecolor": "white",
             "minorgridcolor": "white",
             "startlinecolor": "rgb(51,51,51)"
            },
            "baxis": {
             "endlinecolor": "rgb(51,51,51)",
             "gridcolor": "white",
             "linecolor": "white",
             "minorgridcolor": "white",
             "startlinecolor": "rgb(51,51,51)"
            },
            "type": "carpet"
           }
          ],
          "choropleth": [
           {
            "colorbar": {
             "outlinewidth": 0,
             "tickcolor": "rgb(237,237,237)",
             "ticklen": 6,
             "ticks": "inside"
            },
            "type": "choropleth"
           }
          ],
          "contour": [
           {
            "colorbar": {
             "outlinewidth": 0,
             "tickcolor": "rgb(237,237,237)",
             "ticklen": 6,
             "ticks": "inside"
            },
            "colorscale": [
             [
              0,
              "rgb(20,44,66)"
             ],
             [
              1,
              "rgb(90,179,244)"
             ]
            ],
            "type": "contour"
           }
          ],
          "contourcarpet": [
           {
            "colorbar": {
             "outlinewidth": 0,
             "tickcolor": "rgb(237,237,237)",
             "ticklen": 6,
             "ticks": "inside"
            },
            "type": "contourcarpet"
           }
          ],
          "heatmap": [
           {
            "colorbar": {
             "outlinewidth": 0,
             "tickcolor": "rgb(237,237,237)",
             "ticklen": 6,
             "ticks": "inside"
            },
            "colorscale": [
             [
              0,
              "rgb(20,44,66)"
             ],
             [
              1,
              "rgb(90,179,244)"
             ]
            ],
            "type": "heatmap"
           }
          ],
          "heatmapgl": [
           {
            "colorbar": {
             "outlinewidth": 0,
             "tickcolor": "rgb(237,237,237)",
             "ticklen": 6,
             "ticks": "inside"
            },
            "colorscale": [
             [
              0,
              "rgb(20,44,66)"
             ],
             [
              1,
              "rgb(90,179,244)"
             ]
            ],
            "type": "heatmapgl"
           }
          ],
          "histogram": [
           {
            "marker": {
             "pattern": {
              "fillmode": "overlay",
              "size": 10,
              "solidity": 0.2
             }
            },
            "type": "histogram"
           }
          ],
          "histogram2d": [
           {
            "colorbar": {
             "outlinewidth": 0,
             "tickcolor": "rgb(237,237,237)",
             "ticklen": 6,
             "ticks": "inside"
            },
            "colorscale": [
             [
              0,
              "rgb(20,44,66)"
             ],
             [
              1,
              "rgb(90,179,244)"
             ]
            ],
            "type": "histogram2d"
           }
          ],
          "histogram2dcontour": [
           {
            "colorbar": {
             "outlinewidth": 0,
             "tickcolor": "rgb(237,237,237)",
             "ticklen": 6,
             "ticks": "inside"
            },
            "colorscale": [
             [
              0,
              "rgb(20,44,66)"
             ],
             [
              1,
              "rgb(90,179,244)"
             ]
            ],
            "type": "histogram2dcontour"
           }
          ],
          "mesh3d": [
           {
            "colorbar": {
             "outlinewidth": 0,
             "tickcolor": "rgb(237,237,237)",
             "ticklen": 6,
             "ticks": "inside"
            },
            "type": "mesh3d"
           }
          ],
          "parcoords": [
           {
            "line": {
             "colorbar": {
              "outlinewidth": 0,
              "tickcolor": "rgb(237,237,237)",
              "ticklen": 6,
              "ticks": "inside"
             }
            },
            "type": "parcoords"
           }
          ],
          "pie": [
           {
            "automargin": true,
            "type": "pie"
           }
          ],
          "scatter": [
           {
            "fillpattern": {
             "fillmode": "overlay",
             "size": 10,
             "solidity": 0.2
            },
            "type": "scatter"
           }
          ],
          "scatter3d": [
           {
            "line": {
             "colorbar": {
              "outlinewidth": 0,
              "tickcolor": "rgb(237,237,237)",
              "ticklen": 6,
              "ticks": "inside"
             }
            },
            "marker": {
             "colorbar": {
              "outlinewidth": 0,
              "tickcolor": "rgb(237,237,237)",
              "ticklen": 6,
              "ticks": "inside"
             }
            },
            "type": "scatter3d"
           }
          ],
          "scattercarpet": [
           {
            "marker": {
             "colorbar": {
              "outlinewidth": 0,
              "tickcolor": "rgb(237,237,237)",
              "ticklen": 6,
              "ticks": "inside"
             }
            },
            "type": "scattercarpet"
           }
          ],
          "scattergeo": [
           {
            "marker": {
             "colorbar": {
              "outlinewidth": 0,
              "tickcolor": "rgb(237,237,237)",
              "ticklen": 6,
              "ticks": "inside"
             }
            },
            "type": "scattergeo"
           }
          ],
          "scattergl": [
           {
            "marker": {
             "colorbar": {
              "outlinewidth": 0,
              "tickcolor": "rgb(237,237,237)",
              "ticklen": 6,
              "ticks": "inside"
             }
            },
            "type": "scattergl"
           }
          ],
          "scattermapbox": [
           {
            "marker": {
             "colorbar": {
              "outlinewidth": 0,
              "tickcolor": "rgb(237,237,237)",
              "ticklen": 6,
              "ticks": "inside"
             }
            },
            "type": "scattermapbox"
           }
          ],
          "scatterpolar": [
           {
            "marker": {
             "colorbar": {
              "outlinewidth": 0,
              "tickcolor": "rgb(237,237,237)",
              "ticklen": 6,
              "ticks": "inside"
             }
            },
            "type": "scatterpolar"
           }
          ],
          "scatterpolargl": [
           {
            "marker": {
             "colorbar": {
              "outlinewidth": 0,
              "tickcolor": "rgb(237,237,237)",
              "ticklen": 6,
              "ticks": "inside"
             }
            },
            "type": "scatterpolargl"
           }
          ],
          "scatterternary": [
           {
            "marker": {
             "colorbar": {
              "outlinewidth": 0,
              "tickcolor": "rgb(237,237,237)",
              "ticklen": 6,
              "ticks": "inside"
             }
            },
            "type": "scatterternary"
           }
          ],
          "surface": [
           {
            "colorbar": {
             "outlinewidth": 0,
             "tickcolor": "rgb(237,237,237)",
             "ticklen": 6,
             "ticks": "inside"
            },
            "colorscale": [
             [
              0,
              "rgb(20,44,66)"
             ],
             [
              1,
              "rgb(90,179,244)"
             ]
            ],
            "type": "surface"
           }
          ],
          "table": [
           {
            "cells": {
             "fill": {
              "color": "rgb(237,237,237)"
             },
             "line": {
              "color": "white"
             }
            },
            "header": {
             "fill": {
              "color": "rgb(217,217,217)"
             },
             "line": {
              "color": "white"
             }
            },
            "type": "table"
           }
          ]
         },
         "layout": {
          "annotationdefaults": {
           "arrowhead": 0,
           "arrowwidth": 1
          },
          "autotypenumbers": "strict",
          "coloraxis": {
           "colorbar": {
            "outlinewidth": 0,
            "tickcolor": "rgb(237,237,237)",
            "ticklen": 6,
            "ticks": "inside"
           }
          },
          "colorscale": {
           "sequential": [
            [
             0,
             "rgb(20,44,66)"
            ],
            [
             1,
             "rgb(90,179,244)"
            ]
           ],
           "sequentialminus": [
            [
             0,
             "rgb(20,44,66)"
            ],
            [
             1,
             "rgb(90,179,244)"
            ]
           ]
          },
          "colorway": [
           "#F8766D",
           "#A3A500",
           "#00BF7D",
           "#00B0F6",
           "#E76BF3"
          ],
          "font": {
           "color": "rgb(51,51,51)"
          },
          "geo": {
           "bgcolor": "white",
           "lakecolor": "white",
           "landcolor": "rgb(237,237,237)",
           "showlakes": true,
           "showland": true,
           "subunitcolor": "white"
          },
          "hoverlabel": {
           "align": "left"
          },
          "hovermode": "closest",
          "paper_bgcolor": "white",
          "plot_bgcolor": "rgb(237,237,237)",
          "polar": {
           "angularaxis": {
            "gridcolor": "white",
            "linecolor": "white",
            "showgrid": true,
            "tickcolor": "rgb(51,51,51)",
            "ticks": "outside"
           },
           "bgcolor": "rgb(237,237,237)",
           "radialaxis": {
            "gridcolor": "white",
            "linecolor": "white",
            "showgrid": true,
            "tickcolor": "rgb(51,51,51)",
            "ticks": "outside"
           }
          },
          "scene": {
           "xaxis": {
            "backgroundcolor": "rgb(237,237,237)",
            "gridcolor": "white",
            "gridwidth": 2,
            "linecolor": "white",
            "showbackground": true,
            "showgrid": true,
            "tickcolor": "rgb(51,51,51)",
            "ticks": "outside",
            "zerolinecolor": "white"
           },
           "yaxis": {
            "backgroundcolor": "rgb(237,237,237)",
            "gridcolor": "white",
            "gridwidth": 2,
            "linecolor": "white",
            "showbackground": true,
            "showgrid": true,
            "tickcolor": "rgb(51,51,51)",
            "ticks": "outside",
            "zerolinecolor": "white"
           },
           "zaxis": {
            "backgroundcolor": "rgb(237,237,237)",
            "gridcolor": "white",
            "gridwidth": 2,
            "linecolor": "white",
            "showbackground": true,
            "showgrid": true,
            "tickcolor": "rgb(51,51,51)",
            "ticks": "outside",
            "zerolinecolor": "white"
           }
          },
          "shapedefaults": {
           "fillcolor": "black",
           "line": {
            "width": 0
           },
           "opacity": 0.3
          },
          "ternary": {
           "aaxis": {
            "gridcolor": "white",
            "linecolor": "white",
            "showgrid": true,
            "tickcolor": "rgb(51,51,51)",
            "ticks": "outside"
           },
           "baxis": {
            "gridcolor": "white",
            "linecolor": "white",
            "showgrid": true,
            "tickcolor": "rgb(51,51,51)",
            "ticks": "outside"
           },
           "bgcolor": "rgb(237,237,237)",
           "caxis": {
            "gridcolor": "white",
            "linecolor": "white",
            "showgrid": true,
            "tickcolor": "rgb(51,51,51)",
            "ticks": "outside"
           }
          },
          "xaxis": {
           "automargin": true,
           "gridcolor": "white",
           "linecolor": "white",
           "showgrid": true,
           "tickcolor": "rgb(51,51,51)",
           "ticks": "outside",
           "title": {
            "standoff": 15
           },
           "zerolinecolor": "white"
          },
          "yaxis": {
           "automargin": true,
           "gridcolor": "white",
           "linecolor": "white",
           "showgrid": true,
           "tickcolor": "rgb(51,51,51)",
           "ticks": "outside",
           "title": {
            "standoff": 15
           },
           "zerolinecolor": "white"
          }
         }
        },
        "title": {
         "text": "Profit and loss statement 2018"
        }
       }
      }
     },
     "metadata": {},
     "output_type": "display_data"
    }
   ],
   "source": [
    "n_lt_13_month_hist = transactions_monthly['account_id'].nunique()-filtered_transactions['account_id'].nunique()\n",
    "\n",
    "preprocessing_summary = [\n",
    "        n_merged_base_client,\n",
    "        -len(junior_clients),\n",
    "        -n_lt_13_month_hist,\n",
    "        #-len(non_card_owners)+len(matched_non_buyers_df),\n",
    "        -len(client_df)\n",
    "]\n",
    "\n",
    "fig = go.Figure(go.Waterfall(\n",
    "        name = \"20\", orientation = \"v\",\n",
    "        measure = [\"absolute\", \"relative\", \"relative\", \"relative\", \"total\"],\n",
    "        x = [\"Base Client List\", \"Junior Clients\", \"Clients with less than 13 Months of Transaction History\", \"Non-Card-Holders that were not matched on account activity\", \"Remaining Clients\"],\n",
    "        textposition = \"outside\",\n",
    "        y = preprocessing_summary,\n",
    "        text = [str(x) for x in preprocessing_summary],\n",
    "        connector = {\"line\":{\"color\":\"rgb(63, 63, 63)\"}},\n",
    "))\n",
    "\n",
    "fig.update_layout(\n",
    "        title = \"Profit and loss statement 2018\",\n",
    "        showlegend = True\n",
    ")\n",
    "\n",
    "fig.show()"
   ]
  },
  {
   "cell_type": "markdown",
   "metadata": {},
   "source": [
    "## Exploratory Data Analysis"
   ]
  },
  {
   "cell_type": "markdown",
   "metadata": {},
   "source": [
    "### Exploring Missing Values"
   ]
  },
  {
   "cell_type": "code",
   "execution_count": 38,
   "metadata": {},
   "outputs": [
    {
     "data": {
      "application/vnd.plotly.v1+json": {
       "config": {
        "plotlyServerURL": "https://plot.ly"
       },
       "data": [
        {
         "text": [
          "15.69%",
          "15.69%",
          "15.69%",
          "15.69%",
          "15.69%",
          "84.87%",
          "84.87%",
          "84.87%",
          "84.87%",
          "84.87%",
          "84.87%",
          "81.06%",
          "81.06%"
         ],
         "textposition": "auto",
         "type": "bar",
         "x": [
          "ordertype_HOUSEHOLD",
          "ordertype_INSURANCE PAYMENT",
          "ordertype_LEASING",
          "ordertype_LOAN PAYMENT",
          "ordertype_MISSING",
          "loan_id",
          "loan_date",
          "loan_amount",
          "loan_duration",
          "loan_payments",
          "loan_status",
          "card_id",
          "card_type"
         ],
         "y": [
          619,
          619,
          619,
          619,
          619,
          3348,
          3348,
          3348,
          3348,
          3348,
          3348,
          3198,
          3198
         ]
        }
       ],
       "layout": {
        "template": {
         "data": {
          "bar": [
           {
            "error_x": {
             "color": "rgb(51,51,51)"
            },
            "error_y": {
             "color": "rgb(51,51,51)"
            },
            "marker": {
             "line": {
              "color": "rgb(237,237,237)",
              "width": 0.5
             },
             "pattern": {
              "fillmode": "overlay",
              "size": 10,
              "solidity": 0.2
             }
            },
            "type": "bar"
           }
          ],
          "barpolar": [
           {
            "marker": {
             "line": {
              "color": "rgb(237,237,237)",
              "width": 0.5
             },
             "pattern": {
              "fillmode": "overlay",
              "size": 10,
              "solidity": 0.2
             }
            },
            "type": "barpolar"
           }
          ],
          "carpet": [
           {
            "aaxis": {
             "endlinecolor": "rgb(51,51,51)",
             "gridcolor": "white",
             "linecolor": "white",
             "minorgridcolor": "white",
             "startlinecolor": "rgb(51,51,51)"
            },
            "baxis": {
             "endlinecolor": "rgb(51,51,51)",
             "gridcolor": "white",
             "linecolor": "white",
             "minorgridcolor": "white",
             "startlinecolor": "rgb(51,51,51)"
            },
            "type": "carpet"
           }
          ],
          "choropleth": [
           {
            "colorbar": {
             "outlinewidth": 0,
             "tickcolor": "rgb(237,237,237)",
             "ticklen": 6,
             "ticks": "inside"
            },
            "type": "choropleth"
           }
          ],
          "contour": [
           {
            "colorbar": {
             "outlinewidth": 0,
             "tickcolor": "rgb(237,237,237)",
             "ticklen": 6,
             "ticks": "inside"
            },
            "colorscale": [
             [
              0,
              "rgb(20,44,66)"
             ],
             [
              1,
              "rgb(90,179,244)"
             ]
            ],
            "type": "contour"
           }
          ],
          "contourcarpet": [
           {
            "colorbar": {
             "outlinewidth": 0,
             "tickcolor": "rgb(237,237,237)",
             "ticklen": 6,
             "ticks": "inside"
            },
            "type": "contourcarpet"
           }
          ],
          "heatmap": [
           {
            "colorbar": {
             "outlinewidth": 0,
             "tickcolor": "rgb(237,237,237)",
             "ticklen": 6,
             "ticks": "inside"
            },
            "colorscale": [
             [
              0,
              "rgb(20,44,66)"
             ],
             [
              1,
              "rgb(90,179,244)"
             ]
            ],
            "type": "heatmap"
           }
          ],
          "heatmapgl": [
           {
            "colorbar": {
             "outlinewidth": 0,
             "tickcolor": "rgb(237,237,237)",
             "ticklen": 6,
             "ticks": "inside"
            },
            "colorscale": [
             [
              0,
              "rgb(20,44,66)"
             ],
             [
              1,
              "rgb(90,179,244)"
             ]
            ],
            "type": "heatmapgl"
           }
          ],
          "histogram": [
           {
            "marker": {
             "pattern": {
              "fillmode": "overlay",
              "size": 10,
              "solidity": 0.2
             }
            },
            "type": "histogram"
           }
          ],
          "histogram2d": [
           {
            "colorbar": {
             "outlinewidth": 0,
             "tickcolor": "rgb(237,237,237)",
             "ticklen": 6,
             "ticks": "inside"
            },
            "colorscale": [
             [
              0,
              "rgb(20,44,66)"
             ],
             [
              1,
              "rgb(90,179,244)"
             ]
            ],
            "type": "histogram2d"
           }
          ],
          "histogram2dcontour": [
           {
            "colorbar": {
             "outlinewidth": 0,
             "tickcolor": "rgb(237,237,237)",
             "ticklen": 6,
             "ticks": "inside"
            },
            "colorscale": [
             [
              0,
              "rgb(20,44,66)"
             ],
             [
              1,
              "rgb(90,179,244)"
             ]
            ],
            "type": "histogram2dcontour"
           }
          ],
          "mesh3d": [
           {
            "colorbar": {
             "outlinewidth": 0,
             "tickcolor": "rgb(237,237,237)",
             "ticklen": 6,
             "ticks": "inside"
            },
            "type": "mesh3d"
           }
          ],
          "parcoords": [
           {
            "line": {
             "colorbar": {
              "outlinewidth": 0,
              "tickcolor": "rgb(237,237,237)",
              "ticklen": 6,
              "ticks": "inside"
             }
            },
            "type": "parcoords"
           }
          ],
          "pie": [
           {
            "automargin": true,
            "type": "pie"
           }
          ],
          "scatter": [
           {
            "fillpattern": {
             "fillmode": "overlay",
             "size": 10,
             "solidity": 0.2
            },
            "type": "scatter"
           }
          ],
          "scatter3d": [
           {
            "line": {
             "colorbar": {
              "outlinewidth": 0,
              "tickcolor": "rgb(237,237,237)",
              "ticklen": 6,
              "ticks": "inside"
             }
            },
            "marker": {
             "colorbar": {
              "outlinewidth": 0,
              "tickcolor": "rgb(237,237,237)",
              "ticklen": 6,
              "ticks": "inside"
             }
            },
            "type": "scatter3d"
           }
          ],
          "scattercarpet": [
           {
            "marker": {
             "colorbar": {
              "outlinewidth": 0,
              "tickcolor": "rgb(237,237,237)",
              "ticklen": 6,
              "ticks": "inside"
             }
            },
            "type": "scattercarpet"
           }
          ],
          "scattergeo": [
           {
            "marker": {
             "colorbar": {
              "outlinewidth": 0,
              "tickcolor": "rgb(237,237,237)",
              "ticklen": 6,
              "ticks": "inside"
             }
            },
            "type": "scattergeo"
           }
          ],
          "scattergl": [
           {
            "marker": {
             "colorbar": {
              "outlinewidth": 0,
              "tickcolor": "rgb(237,237,237)",
              "ticklen": 6,
              "ticks": "inside"
             }
            },
            "type": "scattergl"
           }
          ],
          "scattermapbox": [
           {
            "marker": {
             "colorbar": {
              "outlinewidth": 0,
              "tickcolor": "rgb(237,237,237)",
              "ticklen": 6,
              "ticks": "inside"
             }
            },
            "type": "scattermapbox"
           }
          ],
          "scatterpolar": [
           {
            "marker": {
             "colorbar": {
              "outlinewidth": 0,
              "tickcolor": "rgb(237,237,237)",
              "ticklen": 6,
              "ticks": "inside"
             }
            },
            "type": "scatterpolar"
           }
          ],
          "scatterpolargl": [
           {
            "marker": {
             "colorbar": {
              "outlinewidth": 0,
              "tickcolor": "rgb(237,237,237)",
              "ticklen": 6,
              "ticks": "inside"
             }
            },
            "type": "scatterpolargl"
           }
          ],
          "scatterternary": [
           {
            "marker": {
             "colorbar": {
              "outlinewidth": 0,
              "tickcolor": "rgb(237,237,237)",
              "ticklen": 6,
              "ticks": "inside"
             }
            },
            "type": "scatterternary"
           }
          ],
          "surface": [
           {
            "colorbar": {
             "outlinewidth": 0,
             "tickcolor": "rgb(237,237,237)",
             "ticklen": 6,
             "ticks": "inside"
            },
            "colorscale": [
             [
              0,
              "rgb(20,44,66)"
             ],
             [
              1,
              "rgb(90,179,244)"
             ]
            ],
            "type": "surface"
           }
          ],
          "table": [
           {
            "cells": {
             "fill": {
              "color": "rgb(237,237,237)"
             },
             "line": {
              "color": "white"
             }
            },
            "header": {
             "fill": {
              "color": "rgb(217,217,217)"
             },
             "line": {
              "color": "white"
             }
            },
            "type": "table"
           }
          ]
         },
         "layout": {
          "annotationdefaults": {
           "arrowhead": 0,
           "arrowwidth": 1
          },
          "autotypenumbers": "strict",
          "coloraxis": {
           "colorbar": {
            "outlinewidth": 0,
            "tickcolor": "rgb(237,237,237)",
            "ticklen": 6,
            "ticks": "inside"
           }
          },
          "colorscale": {
           "sequential": [
            [
             0,
             "rgb(20,44,66)"
            ],
            [
             1,
             "rgb(90,179,244)"
            ]
           ],
           "sequentialminus": [
            [
             0,
             "rgb(20,44,66)"
            ],
            [
             1,
             "rgb(90,179,244)"
            ]
           ]
          },
          "colorway": [
           "#F8766D",
           "#A3A500",
           "#00BF7D",
           "#00B0F6",
           "#E76BF3"
          ],
          "font": {
           "color": "rgb(51,51,51)"
          },
          "geo": {
           "bgcolor": "white",
           "lakecolor": "white",
           "landcolor": "rgb(237,237,237)",
           "showlakes": true,
           "showland": true,
           "subunitcolor": "white"
          },
          "hoverlabel": {
           "align": "left"
          },
          "hovermode": "closest",
          "paper_bgcolor": "white",
          "plot_bgcolor": "rgb(237,237,237)",
          "polar": {
           "angularaxis": {
            "gridcolor": "white",
            "linecolor": "white",
            "showgrid": true,
            "tickcolor": "rgb(51,51,51)",
            "ticks": "outside"
           },
           "bgcolor": "rgb(237,237,237)",
           "radialaxis": {
            "gridcolor": "white",
            "linecolor": "white",
            "showgrid": true,
            "tickcolor": "rgb(51,51,51)",
            "ticks": "outside"
           }
          },
          "scene": {
           "xaxis": {
            "backgroundcolor": "rgb(237,237,237)",
            "gridcolor": "white",
            "gridwidth": 2,
            "linecolor": "white",
            "showbackground": true,
            "showgrid": true,
            "tickcolor": "rgb(51,51,51)",
            "ticks": "outside",
            "zerolinecolor": "white"
           },
           "yaxis": {
            "backgroundcolor": "rgb(237,237,237)",
            "gridcolor": "white",
            "gridwidth": 2,
            "linecolor": "white",
            "showbackground": true,
            "showgrid": true,
            "tickcolor": "rgb(51,51,51)",
            "ticks": "outside",
            "zerolinecolor": "white"
           },
           "zaxis": {
            "backgroundcolor": "rgb(237,237,237)",
            "gridcolor": "white",
            "gridwidth": 2,
            "linecolor": "white",
            "showbackground": true,
            "showgrid": true,
            "tickcolor": "rgb(51,51,51)",
            "ticks": "outside",
            "zerolinecolor": "white"
           }
          },
          "shapedefaults": {
           "fillcolor": "black",
           "line": {
            "width": 0
           },
           "opacity": 0.3
          },
          "ternary": {
           "aaxis": {
            "gridcolor": "white",
            "linecolor": "white",
            "showgrid": true,
            "tickcolor": "rgb(51,51,51)",
            "ticks": "outside"
           },
           "baxis": {
            "gridcolor": "white",
            "linecolor": "white",
            "showgrid": true,
            "tickcolor": "rgb(51,51,51)",
            "ticks": "outside"
           },
           "bgcolor": "rgb(237,237,237)",
           "caxis": {
            "gridcolor": "white",
            "linecolor": "white",
            "showgrid": true,
            "tickcolor": "rgb(51,51,51)",
            "ticks": "outside"
           }
          },
          "xaxis": {
           "automargin": true,
           "gridcolor": "white",
           "linecolor": "white",
           "showgrid": true,
           "tickcolor": "rgb(51,51,51)",
           "ticks": "outside",
           "title": {
            "standoff": 15
           },
           "zerolinecolor": "white"
          },
          "yaxis": {
           "automargin": true,
           "gridcolor": "white",
           "linecolor": "white",
           "showgrid": true,
           "tickcolor": "rgb(51,51,51)",
           "ticks": "outside",
           "title": {
            "standoff": 15
           },
           "zerolinecolor": "white"
          }
         }
        },
        "title": {
         "text": "Missing Values in the Dataset"
        },
        "xaxis": {
         "title": {
          "text": "Columns"
         }
        },
        "yaxis": {
         "title": {
          "text": "Number of Missing Values"
         }
        }
       }
      }
     },
     "metadata": {},
     "output_type": "display_data"
    }
   ],
   "source": [
    "missing_values = client_df.isnull().sum()\n",
    "\n",
    "missing_values = pd.DataFrame({\n",
    "    'Number of Missing Values': missing_values[missing_values > 0],\n",
    "    'Percentage of Missing Values': [\n",
    "        f\"{x:.2f}%\" for x in (missing_values[missing_values > 0] / client_df.shape[0] * 100).round(2)\n",
    "    ]\n",
    "}, columns=['Number of Missing Values', 'Percentage of Missing Values'])\n",
    "\n",
    "fig = go.Figure()\n",
    "\n",
    "fig.add_trace(go.Bar(\n",
    "    x=missing_values.index,\n",
    "    y=missing_values['Number of Missing Values'],\n",
    "    text=missing_values['Percentage of Missing Values'],\n",
    "    textposition='auto'\n",
    "))\n",
    "\n",
    "fig.update_layout(\n",
    "    title='Missing Values in the Dataset',\n",
    "    xaxis_title='Columns',\n",
    "    yaxis_title='Number of Missing Values'\n",
    ")\n",
    "\n",
    "fig.show()"
   ]
  },
  {
   "cell_type": "markdown",
   "metadata": {},
   "source": [
    "### Cardholders vs Non-Cardholders"
   ]
  },
  {
   "cell_type": "code",
   "execution_count": 39,
   "metadata": {},
   "outputs": [],
   "source": [
    "card_owners = client_df[client_df['has_card']]\n",
    "non_card_owners = client_df[~client_df['has_card']]"
   ]
  },
  {
   "cell_type": "code",
   "execution_count": 40,
   "metadata": {},
   "outputs": [
    {
     "data": {
      "image/png": "[encoded data removed]",
      "text/plain": [
       "<Figure size 1000x600 with 1 Axes>"
      ]
     },
     "metadata": {},
     "output_type": "display_data"
    }
   ],
   "source": [
    "data = {\n",
    "    'Card Ownership': ['Card Owners', 'Non-Card Owners'],\n",
    "    'Number of Clients': [card_owners.shape[0], non_card_owners.shape[0]]\n",
    "}\n",
    "\n",
    "plt.figure(figsize=(10, 6))\n",
    "sns.barplot(x='Card Ownership', y='Number of Clients', data=data, palette='viridis', hue='Card Ownership')\n",
    "\n",
    "for index, value in enumerate(data['Number of Clients']):\n",
    "    plt.text(index, value, str(value), ha='center', va='bottom')\n",
    "\n",
    "plt.title('Card Owners vs Non-Card Owners')\n",
    "plt.xlabel('Card Ownership')\n",
    "plt.ylabel('Number of Clients')\n",
    "plt.grid(True)\n",
    "\n",
    "plt.show()\n"
   ]
  },
  {
   "cell_type": "markdown",
   "metadata": {},
   "source": [
    "###  Card Types"
   ]
  },
  {
   "cell_type": "code",
   "execution_count": 41,
   "metadata": {},
   "outputs": [
    {
     "data": {
      "image/png": "[encoded data removed]",
      "text/plain": [
       "<Figure size 1000x600 with 1 Axes>"
      ]
     },
     "metadata": {},
     "output_type": "display_data"
    }
   ],
   "source": [
    "card_types = card_owners['card_type'].value_counts()\n",
    "card_types = card_types.reset_index()\n",
    "card_types.columns = ['Card Type', 'Number of Clients']\n",
    "\n",
    "plt.figure(figsize=(10, 6))\n",
    "sns.barplot(x='Card Type', y='Number of Clients', data=card_types, palette='viridis', hue='Card Type')\n",
    "\n",
    "for index, value in enumerate(card_types['Number of Clients']):\n",
    "    plt.text(index, value, str(value), ha='center', va='bottom')\n",
    "\n",
    "plt.title('Card Types of Card Owners')\n",
    "plt.xlabel('Card Type')\n",
    "plt.ylabel('Number of Clients')\n",
    "plt.grid(True)\n",
    "\n",
    "plt.show()"
   ]
  },
  {
   "cell_type": "markdown",
   "metadata": {},
   "source": [
    "### Volume before card purchase"
   ]
  },
  {
   "cell_type": "code",
   "execution_count": 42,
   "metadata": {},
   "outputs": [
    {
     "data": {
      "image/png": "[encoded data removed]",
      "text/plain": [
       "<Figure size 1200x1400 with 2 Axes>"
      ]
     },
     "metadata": {},
     "output_type": "display_data"
    }
   ],
   "source": [
    "classic_card_type_df = card_owners[card_owners['card_type'] == 'classic']\n",
    "gold_card_type_df = card_owners[card_owners['card_type'] == 'gold']\n",
    "\n",
    "volume_month_diff_columns = [col for col in account_summary.columns if 'volume_month_diff_' in col]\n",
    "\n",
    "classic_data = []\n",
    "gold_data = []\n",
    "\n",
    "for col in volume_month_diff_columns:\n",
    "    month_num = col.split('_')[-1]\n",
    "    for value in classic_card_type_df[col]:\n",
    "        classic_data.append({'Month': month_num, 'Volume': value, 'Card Type': 'Classic'})\n",
    "\n",
    "for col in volume_month_diff_columns:\n",
    "    month_num = col.split('_')[-1]\n",
    "    for value in gold_card_type_df[col]:\n",
    "        gold_data.append({'Month': month_num, 'Volume': value, 'Card Type': 'Gold'})\n",
    "\n",
    "combined_data = classic_data + gold_data\n",
    "\n",
    "combined_df = pd.DataFrame(combined_data)\n",
    "\n",
    "fig, axes = plt.subplots(nrows=2, ncols=1, figsize=(12, 14), sharex=True)\n",
    "\n",
    "sns.boxplot(ax=axes[0], x='Month', y='Volume', data=combined_df[combined_df['Card Type'] == 'Classic'], palette='viridis', hue='Month')\n",
    "axes[0].set_title('Volume of Transactions for Classic Card Holders')\n",
    "axes[0].set_xlabel('Months before purchase')\n",
    "axes[0].set_ylabel('Volume of Transactions')\n",
    "\n",
    "sns.boxplot(ax=axes[1], x='Month', y='Volume', data=combined_df[combined_df['Card Type'] == 'Gold'], palette='viridis', hue='Month')\n",
    "axes[1].set_title('Volume of Transactions for Gold Card Holders')\n",
    "axes[1].set_xlabel('Months before purchase')\n",
    "axes[1].set_ylabel('Volume of Transactions')\n",
    "\n",
    "fig.suptitle('Volume of Transactions by Card Type')\n",
    "plt.tight_layout(rect=[0, 0, 1, 0.97])\n",
    "\n",
    "plt.show()"
   ]
  },
  {
   "cell_type": "markdown",
   "metadata": {},
   "source": [
    "### Age distribution"
   ]
  },
  {
   "cell_type": "code",
   "execution_count": 43,
   "metadata": {},
   "outputs": [
    {
     "data": {
      "image/png": "[encoded data removed]",
      "text/plain": [
       "<Figure size 1200x600 with 2 Axes>"
      ]
     },
     "metadata": {},
     "output_type": "display_data"
    }
   ],
   "source": [
    "# Assuming card_owners and non_card_owners DataFrames are already defined\n",
    "fig, ax1 = plt.subplots(figsize=(12, 6))\n",
    "\n",
    "# Plot histograms with percentage normalization on the left y-axis\n",
    "sns.histplot(card_owners['client_age'], bins=20, stat='percent', kde=False, color='blue', edgecolor='white', linewidth=1, label='Card Owners - Histogram', alpha=0.5, ax=ax1)\n",
    "sns.histplot(non_card_owners['client_age'], bins=20, stat='percent', kde=False, color='orange', edgecolor='white', linewidth=1, label='Non-Card Owners - Histogram', alpha=0.5, ax=ax1)\n",
    "\n",
    "# Set up the second y-axis\n",
    "ax2 = ax1.twinx()\n",
    "\n",
    "# Plot density plots on the right y-axis\n",
    "sns.kdeplot(card_owners['client_age'], bw_adjust=0.5, color='blue', label='Card Owners - Density', ax=ax2)\n",
    "sns.kdeplot(non_card_owners['client_age'], bw_adjust=0.5, color='orange', label='Non-Card Owners - Density', ax=ax2)\n",
    "\n",
    "# Set the titles and labels\n",
    "ax1.set_title('Distribution of Client Age')\n",
    "ax1.set_xlabel('Age')\n",
    "ax1.set_ylabel('Percentage of Clients')\n",
    "ax2.set_ylabel('Density')\n",
    "\n",
    "# Combine legends\n",
    "handles1, labels1 = ax1.get_legend_handles_labels()\n",
    "handles2, labels2 = ax2.get_legend_handles_labels()\n",
    "ax1.legend(handles1 + handles2, labels1 + labels2, loc='upper right')\n",
    "\n",
    "# Show the plot\n",
    "plt.grid(True)\n",
    "plt.show()"
   ]
  },
  {
   "cell_type": "markdown",
   "metadata": {},
   "source": [
    "## Train-Test-Split"
   ]
  },
  {
   "cell_type": "code",
   "execution_count": 44,
   "metadata": {},
   "outputs": [],
   "source": [
    "from sklearn.model_selection import train_test_split\n",
    "\n",
    "X = client_df\n",
    "y = X['has_card']\n",
    "X = X.drop(columns=['has_card', 'card_id', 'card_issued', 'card_type'])\n",
    "\n",
    "X_train, X_test, y_train, y_test = train_test_split(X, y, test_size=0.2, random_state=1337)"
   ]
  },
  {
   "cell_type": "code",
   "execution_count": 45,
   "metadata": {},
   "outputs": [
    {
     "name": "stdout",
     "output_type": "stream",
     "text": [
      "Train set:\n",
      "has_card\n",
      "False    0.811787\n",
      "True     0.188213\n",
      "Name: proportion, dtype: float64\n",
      "\n",
      "Test set:\n",
      "has_card\n",
      "False    0.806084\n",
      "True     0.193916\n",
      "Name: proportion, dtype: float64\n"
     ]
    }
   ],
   "source": [
    "print('Train set:')\n",
    "print(y_train.value_counts(normalize=True))\n",
    "print('\\nTest set:')\n",
    "print(y_test.value_counts(normalize=True))"
   ]
  },
  {
   "cell_type": "markdown",
   "metadata": {},
   "source": [
    "## Baseline Model\n",
    "Erstellen eines Baseline Modelles mittels logistischer Regression und den Informationen “Alter”,\n",
    "“Geschlecht”, “Domizilregion”, “Vermögen” und “Umsatz” vor Kreditkartenkauf."
   ]
  },
  {
   "cell_type": "code",
   "execution_count": 46,
   "metadata": {},
   "outputs": [],
   "source": [
    "from scripts.utils import evaluate_model"
   ]
  },
  {
   "cell_type": "code",
   "execution_count": 47,
   "metadata": {},
   "outputs": [],
   "source": [
    "from sklearn.linear_model import LogisticRegression\n",
    "from sklearn.pipeline import Pipeline\n",
    "from sklearn.compose import ColumnTransformer\n",
    "from sklearn.preprocessing import OneHotEncoder, StandardScaler\n",
    "\n",
    "baseline_column_selection = X_train[['client_age', 'client_gender', 'client_district_region']]\n",
    "client_vol_bal_cols = X_train.filter(regex='(volume|balance)', axis=1).columns\n",
    "baseline_column_selection = pd.concat([baseline_column_selection, X_train[client_vol_bal_cols]], axis=1)\n",
    "\n",
    "baseline_cat_columns = baseline_column_selection.select_dtypes(include=['object'])\n",
    "baseline_num_columns = baseline_column_selection.select_dtypes(exclude=['object'])\n",
    "\n",
    "preprocessor = ColumnTransformer(\n",
    "    transformers=[\n",
    "        ('num', StandardScaler(), baseline_num_columns.columns),\n",
    "        ('cat', OneHotEncoder(handle_unknown='ignore'), baseline_cat_columns.columns)\n",
    "    ])\n",
    "\n",
    "base_pipeline = Pipeline([\n",
    "    ('preprocessor', preprocessor),\n",
    "    ('classifier', LogisticRegression(max_iter=1000))\n",
    "])"
   ]
  },
  {
   "cell_type": "code",
   "execution_count": 48,
   "metadata": {},
   "outputs": [
    {
     "data": {
      "image/png": "[encoded data removed]",
      "text/plain": [
       "<Figure size 1000x600 with 1 Axes>"
      ]
     },
     "metadata": {},
     "output_type": "display_data"
    },
    {
     "data": {
      "image/png": "[encoded data removed]",
      "text/plain": [
       "<Figure size 1800x500 with 3 Axes>"
      ]
     },
     "metadata": {},
     "output_type": "display_data"
    },
    {
     "data": {
      "image/png": "[encoded data removed]",
      "text/plain": [
       "<Figure size 640x480 with 1 Axes>"
      ]
     },
     "metadata": {},
     "output_type": "display_data"
    },
    {
     "name": "stdout",
     "output_type": "stream",
     "text": [
      "      Metric      Mean       Std\n",
      "0   Accuracy  0.817491  0.013129\n",
      "1  Precision  0.783503  0.020554\n",
      "2     Recall  0.817491  0.013129\n",
      "3   F1 Score  0.782958  0.013727\n",
      "4    ROC AUC  0.797403  0.035019\n"
     ]
    }
   ],
   "source": [
    "results_df = evaluate_model(pipeline=base_pipeline, X=baseline_column_selection, y=y_train, model_name='Baseline LogReg')\n",
    "print(results_df)"
   ]
  },
  {
   "cell_type": "markdown",
   "metadata": {},
   "source": [
    "### Generating Event-Based Customer Information"
   ]
  },
  {
   "cell_type": "code",
   "execution_count": 49,
   "metadata": {},
   "outputs": [],
   "source": [
    "month_diff_columns = [col for col in client_df.columns if 'month_diff' in col]\n",
    "\n",
    "prefixes = set(col.rsplit('_', 2)[0] for col in month_diff_columns)\n",
    "\n",
    "for prefix in prefixes:\n",
    "    cols = [col for col in month_diff_columns if col.startswith(prefix)]\n",
    "    client_df[f'{prefix}_mean'] = client_df[cols].mean(axis=1)\n",
    "    client_df[f'{prefix}_std'] = client_df[cols].std(axis=1)\n",
    "    client_df[f'{prefix}_min'] = client_df[cols].min(axis=1)\n",
    "    client_df[f'{prefix}_max'] = client_df[cols].max(axis=1)\n",
    "    client_df[f'{prefix}_sum'] = client_df[cols].sum(axis=1)\n",
    "    client_df[f'{prefix}_median'] = client_df[cols].median(axis=1)"
   ]
  },
  {
   "cell_type": "code",
   "execution_count": 50,
   "metadata": {},
   "outputs": [
    {
     "data": {
      "image/png": "[encoded data removed]",
      "text/plain": [
       "<Figure size 1600x500 with 1 Axes>"
      ]
     },
     "metadata": {},
     "output_type": "display_data"
    }
   ],
   "source": [
    "from scripts.utils import plot_agg_variables\n",
    "\n",
    "plot_agg_variables(client_df, 'volume', ['mean'])"
   ]
  },
  {
   "cell_type": "markdown",
   "metadata": {},
   "source": [
    "## Feature Engineering"
   ]
  },
  {
   "cell_type": "markdown",
   "metadata": {},
   "source": [
    "### Deriving New Features"
   ]
  },
  {
   "cell_type": "code",
   "execution_count": null,
   "metadata": {},
   "outputs": [],
   "source": []
  },
  {
   "cell_type": "markdown",
   "metadata": {},
   "source": []
  }
 ],
 "metadata": {
  "kernelspec": {
   "display_name": ".venv",
   "language": "python",
   "name": "python3"
  },
  "language_info": {
   "codemirror_mode": {
    "name": "ipython",
    "version": 3
   },
   "file_extension": ".py",
   "mimetype": "text/x-python",
   "name": "python",
   "nbconvert_exporter": "python",
   "pygments_lexer": "ipython3",
   "version": "3.12.0"
  }
 },
 "nbformat": 4,
 "nbformat_minor": 2
}
